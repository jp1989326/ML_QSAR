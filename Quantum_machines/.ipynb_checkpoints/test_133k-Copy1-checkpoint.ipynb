{
 "cells": [
  {
   "cell_type": "code",
   "execution_count": 1,
   "metadata": {
    "collapsed": false
   },
   "outputs": [
    {
     "name": "stderr",
     "output_type": "stream",
     "text": [
      "Using Theano backend.\n",
      "Using gpu device 0: GeForce GTX 980 Ti (CNMeM is enabled with initial size: 50.0% of memory, cuDNN 5005)\n"
     ]
    }
   ],
   "source": [
    "import timeit\n",
    "import h5py\n",
    "import pandas as pd\n",
    "import molml \n",
    "from molml.features import CoulombMatrix, BagOfBonds\n",
    "import numpy as np\n",
    "import matplotlib.pyplot as plt\n",
    "%matplotlib inline\n",
    "from keras.layers import Input, Dense, Lambda\n",
    "from keras.models import Model\n",
    "from keras import backend as K\n",
    "from keras import objectives\n"
   ]
  },
  {
   "cell_type": "code",
   "execution_count": 2,
   "metadata": {
    "collapsed": true
   },
   "outputs": [],
   "source": [
    "from sklearn.model_selection import train_test_split \n",
    "from sklearn.ensemble import RandomForestRegressor as rfr\n",
    "from sklearn.metrics import r2_score,mean_squared_error, mean_absolute_error, median_absolute_error\n",
    "from sklearn import preprocessing\n",
    "from sklearn.preprocessing import MinMaxScaler \n",
    "from keras.models import Sequential, load_model\n",
    "from keras import regularizers\n",
    "from keras.layers.convolutional import Convolution1D\n",
    "from keras.layers.core import Flatten, RepeatVector\n",
    "from keras.layers.recurrent import GRU\n",
    "from keras.layers.wrappers import TimeDistributed"
   ]
  },
  {
   "cell_type": "code",
   "execution_count": 3,
   "metadata": {
    "collapsed": true
   },
   "outputs": [],
   "source": [
    "def vae_133(train, train_vali, epoch_no = 5, encoder_dim=[100, 100, 100], decoder_dim=[100, 100, 100]):\n",
    "    \n",
    "    # Variational autoencoder\n",
    "\n",
    "    '''This script demonstrates how to build a variational autoencoder with Keras.\n",
    "    Reference: \"Auto-Encoding Variational Bayes\" https://arxiv.org/abs/1312.6114\n",
    "    The encoder_dim are the original dim, intermediate dim and latent dim respectivley\n",
    "    \n",
    "    '''   \n",
    "    #batch_size = 100\n",
    "    start = timeit.default_timer()\n",
    "\n",
    "    x = Input(shape=(encoder_dim[0],))\n",
    "    h = Dense(encoder_dim[1], activation='relu')(x)\n",
    "    h = Dense(encoder_dim[1], activation='relu')(h)\n",
    "    \n",
    "    \n",
    "    z_mean = Dense(encoder_dim[2])(h)\n",
    "    z_log_var = Dense(encoder_dim[2])(h)\n",
    "\n",
    "\n",
    "    def sampling(args):\n",
    "        z_mean, z_log_var = args\n",
    "        epsilon = K.random_normal(shape=(encoder_dim[2], ), mean=0.)\n",
    "        return z_mean + K.exp(z_log_var / 2) * epsilon\n",
    "\n",
    "    # note that \"output_shape\" isn't necessary with the TensorFlow backend\n",
    "    z = Lambda(sampling, output_shape=(encoder_dim[2],))([z_mean, z_log_var])\n",
    "\n",
    "    # we instantiate these layers separately so as to reuse them later\n",
    "    decoder_h = Dense( decoder_dim[1], activation='relu')\n",
    "    \n",
    "    decoder_mean = Dense(decoder_dim[0], activation='linear')\n",
    "    \n",
    "    h_decoded = decoder_h(z)\n",
    "    \n",
    "    x_decoded_mean = decoder_mean(h_decoded)\n",
    "\n",
    "#Wa custom loss function: the sum of a reconstruction term, and the KL divergence regularization term.\n",
    "\n",
    "    def vae_loss(x, x_decoded_mean):\n",
    "        xent_loss = encoder_dim[0] * objectives.mean_absolute_error(x, x_decoded_mean)\n",
    "#        xent_loss = encoder_dim[0] * objectives.binary_crossentropy(x, x_decoded_mean)\n",
    "        kl_loss = - 0.5 * K.sum(1 + z_log_var - K.square(z_mean) - K.exp(z_log_var), axis=-1)\n",
    "        return xent_loss + kl_loss\n",
    "\n",
    "    vae = Model(x, x_decoded_mean)\n",
    "    vae.compile(optimizer='rmsprop', loss=vae_loss, metrics=['mae', 'mse'])\n",
    "    \n",
    "    history = vae.fit(train, train,\n",
    "            shuffle=True,\n",
    "            nb_epoch=epoch_no,\n",
    "            batch_size=100,\n",
    "            verbose = 1,\n",
    "           validation_data = (train_vali,train_vali))\n",
    "    \n",
    "    encoder = Model(x, z_mean)\n",
    "    \n",
    "    stop = timeit.default_timer()\n",
    "\n",
    "    print (\"The running takes %r min\" %((stop-start)/60))\n",
    "    \n",
    "    return encoder, history"
   ]
  },
  {
   "cell_type": "code",
   "execution_count": null,
   "metadata": {
    "collapsed": true
   },
   "outputs": [],
   "source": [
    "def cnn_133(train, train_vali, epoch_no = 5, encoder_dim=[100, 100, 100], decoder_dim=[100, 100, 100]):\n",
    "    \n",
    "    # CNN autoencoder\n",
    "   \n",
    "    #batch_size = 100\n",
    "    start = timeit.default_timer()\n",
    "    x = Input(shape=(666,1 ))\n",
    "    h = Convolution1D(9, 9, activation = 'relu', name='conv_1')(x)\n",
    "    h = Flatten(name='flatten_1')(h)\n",
    "    h = Dense(encoder_dim[2], activation = 'relu', name='dense_1')(h)\n",
    "    \n",
    "    \n",
    "    z_mean = Dense(encoder_dim[2])(h)\n",
    "    z_log_var = Dense(encoder_dim[2])(h)\n",
    "\n",
    "\n",
    "    def sampling(args):\n",
    "        z_mean, z_log_var = args\n",
    "        epsilon = K.random_normal(shape=(encoder_dim[2], ), mean=0.)\n",
    "        return z_mean + K.exp(z_log_var / 2) * epsilon\n",
    "\n",
    "    # note that \"output_shape\" isn't necessary with the TensorFlow backend\n",
    "    z = Lambda(sampling, output_shape=(encoder_dim[2],))([z_mean, z_log_var])\n",
    "\n",
    "    # we instantiate these layers separately so as to reuse them later\n",
    "    decoder_h = Dense( decoder_dim[1], activation='relu')\n",
    "    \n",
    "    decoder_mean = Dense(decoder_dim[0], activation='linear')\n",
    "    \n",
    "    h_decoded = decoder_h(z)\n",
    "    \n",
    "    x_decoded_mean = decoder_mean(h_decoded)\n",
    "\n",
    "#Wa custom loss function: the sum of a reconstruction term, and the KL divergence regularization term.\n",
    "\n",
    "    def vae_loss(x, x_decoded_mean):\n",
    "        xent_loss = encoder_dim[0] * objectives.mean_absolute_error(x, x_decoded_mean)\n",
    "#        xent_loss = encoder_dim[0] * objectives.binary_crossentropy(x, x_decoded_mean)\n",
    "        kl_loss = - 0.5 * K.sum(1 + z_log_var - K.square(z_mean) - K.exp(z_log_var), axis=-1)\n",
    "        return xent_loss + kl_loss\n",
    "\n",
    "    vae = Model(x, x_decoded_mean)\n",
    "    vae.compile(optimizer='rmsprop', loss=vae_loss, metrics=['mae', 'mse'])\n",
    "    \n",
    "    history = vae.fit(train, train,\n",
    "            shuffle=True,\n",
    "            nb_epoch=epoch_no,\n",
    "            batch_size=100,\n",
    "            verbose = 1,\n",
    "           validation_data = (train_vali,train_vali))\n",
    "    \n",
    "    encoder = Model(x, z_mean)\n",
    "    \n",
    "    stop = timeit.default_timer()\n",
    "\n",
    "    print (\"The running takes %r min\" %((stop-start)/60))\n",
    "    \n",
    "    return encoder, history"
   ]
  },
  {
   "cell_type": "code",
   "execution_count": 6,
   "metadata": {
    "collapsed": true
   },
   "outputs": [],
   "source": [
    "class MoleculeVAE():\n",
    "\n",
    "    autoencoder = None\n",
    "    \n",
    "    \n",
    "    def create(self,\n",
    "               max_length = 666,\n",
    "               latent_rep_size = 2,\n",
    "               weights_file = None):\n",
    "        channel_length = 1\n",
    "        \n",
    "        x = Input(shape=(max_length, channel_length))\n",
    "        _, z = self._buildEncoder(x, latent_rep_size, max_length)\n",
    "        self.encoder = Model(x, z)\n",
    "\n",
    "        encoded_input = Input(shape=(latent_rep_size,))\n",
    "        self.decoder = Model(\n",
    "            encoded_input,\n",
    "            self._buildDecoder(\n",
    "                encoded_input,\n",
    "                latent_rep_size,\n",
    "                max_length,\n",
    "                channel_length\n",
    "            )\n",
    "        )\n",
    "\n",
    "        x1 = Input(shape=(max_length, channel_length ))\n",
    "        vae_loss, z1 = self._buildEncoder(x1, latent_rep_size, max_length)\n",
    "        self.autoencoder = Model(\n",
    "            x1,\n",
    "            self._buildDecoder(\n",
    "                z1,\n",
    "                latent_rep_size,\n",
    "                max_length,\n",
    "                channel_length\n",
    "            )\n",
    "        )\n",
    "\n",
    "        if weights_file:\n",
    "            self.autoencoder.load_weights(weights_file)\n",
    "            self.encoder.load_weights(weights_file, by_name = True)\n",
    "            self.decoder.load_weights(weights_file, by_name = True)\n",
    "\n",
    "        self.autoencoder.compile(optimizer = 'Adam',\n",
    "                                 loss = vae_loss,\n",
    "                                 metrics = ['mae'])\n",
    "\n",
    "    def _buildEncoder(self, x, latent_rep_size, max_length, epsilon_std = 0.01):\n",
    "        h = Convolution1D(9, 9, activation = 'relu', name='conv_1')(x)\n",
    "        h = Flatten(name='flatten_1')(h)\n",
    "        h = Dense(20, activation = 'relu', name='dense_1')(h)\n",
    "\n",
    "        def sampling(args):\n",
    "            z_mean_, z_log_var_ = args\n",
    "            batch_size = K.shape(z_mean_)[0]\n",
    "            epsilon = K.random_normal(shape=(batch_size, latent_rep_size), mean=0., std = epsilon_std)\n",
    "            return z_mean_ + K.exp(z_log_var_ / 2) * epsilon\n",
    "\n",
    "        z_mean = Dense(latent_rep_size, name='z_mean', activation = 'linear')(h)\n",
    "        z_log_var = Dense(latent_rep_size, name='z_log_var', activation = 'linear')(h)\n",
    "\n",
    "        def vae_loss(x, x_decoded_mean):\n",
    "            x = K.flatten(x)\n",
    "            x_decoded_mean = K.flatten(x_decoded_mean)\n",
    "            xent_loss = max_length * objectives.mean_absolute_error(x, x_decoded_mean)\n",
    "            kl_loss = - 0.5 * K.mean(1 + z_log_var - K.square(z_mean) - K.exp(z_log_var), axis = -1)\n",
    "            return xent_loss + kl_loss\n",
    "\n",
    "        return (vae_loss, Lambda(sampling, output_shape=(latent_rep_size,), name='lambda')([z_mean, z_log_var]))\n",
    "\n",
    "    def _buildDecoder(self, z, latent_rep_size, max_length, channel_length):\n",
    "        h = Dense(latent_rep_size, name='latent_input', activation = 'relu')(z)\n",
    "        h = RepeatVector(max_length, name='repeat_vector')(h)\n",
    "        h = Dense(10, name='gru_1')(h)\n",
    "#        h = GRU(10, return_sequences = True, name='gru_1')(h)\n",
    "        return TimeDistributed(Dense(channel_length, activation='linear'), name='decoded_mean')(h)\n",
    "\n",
    "    def save(self, filename):\n",
    "        self.autoencoder.save_weights(filename)\n",
    "    \n",
    "    def load(self, weights_file, latent_rep_size = 292):\n",
    "        self.create( weights_file = weights_file, latent_rep_size = latent_rep_size)"
   ]
  },
  {
   "cell_type": "code",
   "execution_count": 55,
   "metadata": {
    "collapsed": false
   },
   "outputs": [
    {
     "name": "stdout",
     "output_type": "stream",
     "text": [
      "The running takes 101.43011925220489 min\n"
     ]
    }
   ],
   "source": [
    "vcnn_model = MoleculeVAE()\n",
    "vcnn_model.create(latent_rep_size=200)\n",
    "start = timeit.default_timer()\n",
    "history = vcnn_model.autoencoder.fit(train_3D_, train_3D_,\n",
    "                            shuffle=True,\n",
    "                            nb_epoch=50,\n",
    "                            batch_size=100,\n",
    "                            verbose = 0,\n",
    "                            validation_data = (train_vali_3D,train_vali_3D))\n",
    "stop = timeit.default_timer()\n",
    "print (\"The running takes %r min\" %((stop-start)/60))"
   ]
  },
  {
   "cell_type": "code",
   "execution_count": 58,
   "metadata": {
    "collapsed": false
   },
   "outputs": [
    {
     "name": "stdout",
     "output_type": "stream",
     "text": [
      "the dimension for lattent representation is  200\n"
     ]
    },
    {
     "data": {
      "text/plain": [
       "'\\nregressor = baseline_model(dim=[train_encoded.shape[1],200,1])\\nhistory_regress = regressor.fit(train_encoded, trainlabel,\\n        shuffle=True,\\n        nb_epoch=50,\\n        batch_size=100,\\n        verbose = 1\\n        )\\nregressor.evaluate(test_encoded, testlabel)\\n'"
      ]
     },
     "execution_count": 58,
     "metadata": {},
     "output_type": "execute_result"
    }
   ],
   "source": [
    "# build a baseline model to compare the performance between a vae encoded input and a raw input (666)\n",
    "train_encoded, test_encoded = encoding(vcnn_model.encoder, train=train_3D_all, test= test_3D)\n",
    "\n",
    "'''\n",
    "regressor = baseline_model(dim=[train_encoded.shape[1],200,1])\n",
    "history_regress = regressor.fit(train_encoded, trainlabel,\n",
    "        shuffle=True,\n",
    "        nb_epoch=50,\n",
    "        batch_size=100,\n",
    "        verbose = 1\n",
    "        )\n",
    "regressor.evaluate(test_encoded, testlabel)\n",
    "'''"
   ]
  },
  {
   "cell_type": "code",
   "execution_count": null,
   "metadata": {
    "collapsed": true
   },
   "outputs": [],
   "source": [
    "input_dim = np.shape(train_)[1]\n",
    "\n",
    "encoder, history = cnn_133(train_3D_, train_vali_3D, epoch_no = 20, \\\n",
    "                  encoder_dim=[input_dim, 666, 100], decoder_dim=[input_dim, 666, 100])"
   ]
  },
  {
   "cell_type": "code",
   "execution_count": 58,
   "metadata": {
    "collapsed": true
   },
   "outputs": [],
   "source": [
    "def baseline_vcnn(dim= [1,2,3]):\n",
    "    \n",
    "    #define a baseline model only consisting of one hidden layer\n",
    "    \n",
    "    latent_rep_size = 2\n",
    "    batch_size = 100\n",
    "    \n",
    "    ##################\n",
    "\n",
    "    x = Input(shape=(dim[-2], dim[-1]))\n",
    "    h = Convolution1D(10, 11, activation = 'relu', name='conv_1')(x)\n",
    "    h = Flatten(name='flatten_1')(h)\n",
    "    h = Dense(10, activation = 'linear', name='dense_1')(h)\n",
    "    \n",
    "    z_mean = Dense(latent_rep_size, name='z_mean', activation = 'linear')(h)\n",
    "    z_log_var = Dense(latent_rep_size, name='z_log_var', activation = 'linear')(h)\n",
    "    \n",
    "    def sampling(args):\n",
    "        z_mean_, z_log_var_ = args\n",
    "        batch_size = K.shape(z_mean_)[0]\n",
    "        epsilon = K.random_normal(shape=(batch_size, latent_rep_size), mean=0.)\n",
    "        return z_mean_ + K.exp(z_log_var_ / 2) * epsilon\n",
    "\n",
    "    z = Lambda(sampling, output_shape=(latent_rep_size,))([z_mean, z_log_var])\n",
    "    \n",
    "    h_d = Dense(latent_rep_size, name='latent_input', activation = 'relu')(z)\n",
    "    h_d = RepeatVector(666, name='repeat_vector')(h_d)\n",
    "#    h_d = GRU(10, return_sequences = True, name='gru_3')(h_d)\n",
    "    \n",
    "    h_d = TimeDistributed(Dense(dim[-1], activation='linear'), name='decoded_mean')(h_d)\n",
    "\n",
    "    def vae_loss(x, x_decoded_mean):\n",
    "        x = K.flatten(x)\n",
    "        x_decoded_mean = K.flatten(x_decoded_mean)\n",
    "        xent_loss = max_length * objectives.binary_crossentropy(x, x_decoded_mean)\n",
    "        kl_loss = - 0.5 * K.mean(1 + z_log_var - K.square(z_mean) - K.exp(z_log_var), axis = -1)\n",
    "        return xent_loss + kl_loss\n",
    "\n",
    "\n",
    "    \n",
    "    \n",
    "    cnn = Model(x, h_d)\n",
    "\n",
    "    cnn.compile(loss='mean_absolute_error', optimizer='adam')\n",
    "    return cnn"
   ]
  },
  {
   "cell_type": "code",
   "execution_count": null,
   "metadata": {
    "collapsed": true
   },
   "outputs": [],
   "source": [
    "input_dim = np.shape(train_)[1]\n",
    "\n",
    "vcnn_base = baseline_vcnn(dim=[input_dim, 666, 1])\n",
    "vcnn_base.fit(train_3D_, train_label,\n",
    "        shuffle=True,\n",
    "        nb_epoch=50,\n",
    "        batch_size=100,\n",
    "        verbose = 0,\n",
    "        )"
   ]
  },
  {
   "cell_type": "code",
   "execution_count": 12,
   "metadata": {
    "collapsed": true
   },
   "outputs": [],
   "source": [
    "def baseline_cnn(dim= [1,2,3]):\n",
    "    \n",
    "    #define a baseline model only consisting of one hidden layer\n",
    "\n",
    "    x = Input(shape=(dim[-2], dim[-1]))\n",
    "    h = Convolution1D(10, 11, activation = 'relu', name='conv_1')(x)\n",
    "    h = Flatten(name='flatten_1')(h)\n",
    "    h = Dense(1, activation = 'linear', name='dense_1')(h)\n",
    "    cnn = Model(x, h)\n",
    "\n",
    "    cnn.compile(loss='mean_absolute_error', optimizer='adam')\n",
    "    return cnn"
   ]
  },
  {
   "cell_type": "code",
   "execution_count": null,
   "metadata": {
    "collapsed": true
   },
   "outputs": [],
   "source": [
    "input_dim = np.shape(train_)[1]\n",
    "\n",
    "cnn_base = baseline_cnn(dim=[input_dim, 666, 1])\n",
    "cnn_base.fit(train_3D_, train_label,\n",
    "        shuffle=True,\n",
    "        nb_epoch=50,\n",
    "        batch_size=100,\n",
    "        verbose = 1,\n",
    "        )"
   ]
  },
  {
   "cell_type": "code",
   "execution_count": 31,
   "metadata": {
    "collapsed": false
   },
   "outputs": [
    {
     "name": "stdout",
     "output_type": "stream",
     "text": [
      "Train on 85686 samples, validate on 21422 samples\n",
      "Epoch 1/100\n",
      "85686/85686 [==============================] - 2s - loss: 41.3774 - mean_absolute_error: 0.0571 - mean_squared_error: 0.0179 - val_loss: 31.5963 - val_mean_absolute_error: 0.0415 - val_mean_squared_error: 0.0122\n",
      "Epoch 2/100\n",
      "85686/85686 [==============================] - 2s - loss: 32.0038 - mean_absolute_error: 0.0424 - mean_squared_error: 0.0124 - val_loss: 33.4504 - val_mean_absolute_error: 0.0428 - val_mean_squared_error: 0.0127\n",
      "Epoch 3/100\n",
      "85686/85686 [==============================] - 2s - loss: 30.1128 - mean_absolute_error: 0.0393 - mean_squared_error: 0.0114 - val_loss: 29.5154 - val_mean_absolute_error: 0.0385 - val_mean_squared_error: 0.0108\n",
      "Epoch 4/100\n",
      "85686/85686 [==============================] - 2s - loss: 28.5509 - mean_absolute_error: 0.0368 - mean_squared_error: 0.0102 - val_loss: 27.7125 - val_mean_absolute_error: 0.0356 - val_mean_squared_error: 0.0097\n",
      "Epoch 5/100\n",
      "85686/85686 [==============================] - 2s - loss: 27.6358 - mean_absolute_error: 0.0352 - mean_squared_error: 0.0096 - val_loss: 26.8528 - val_mean_absolute_error: 0.0343 - val_mean_squared_error: 0.0092\n",
      "Epoch 6/100\n",
      "85686/85686 [==============================] - 2s - loss: 26.9980 - mean_absolute_error: 0.0341 - mean_squared_error: 0.0092 - val_loss: 26.3094 - val_mean_absolute_error: 0.0335 - val_mean_squared_error: 0.0089\n",
      "Epoch 7/100\n",
      "85686/85686 [==============================] - 2s - loss: 26.3251 - mean_absolute_error: 0.0331 - mean_squared_error: 0.0087 - val_loss: 25.4014 - val_mean_absolute_error: 0.0310 - val_mean_squared_error: 0.0080\n",
      "Epoch 8/100\n",
      "85686/85686 [==============================] - 2s - loss: 25.7458 - mean_absolute_error: 0.0321 - mean_squared_error: 0.0082 - val_loss: 25.5121 - val_mean_absolute_error: 0.0315 - val_mean_squared_error: 0.0080\n",
      "Epoch 9/100\n",
      "85686/85686 [==============================] - 2s - loss: 25.1877 - mean_absolute_error: 0.0312 - mean_squared_error: 0.0078 - val_loss: 24.3938 - val_mean_absolute_error: 0.0298 - val_mean_squared_error: 0.0073\n",
      "Epoch 10/100\n",
      "85686/85686 [==============================] - 2s - loss: 24.7852 - mean_absolute_error: 0.0305 - mean_squared_error: 0.0075 - val_loss: 25.0155 - val_mean_absolute_error: 0.0306 - val_mean_squared_error: 0.0077\n",
      "Epoch 11/100\n",
      "85686/85686 [==============================] - 2s - loss: 24.4566 - mean_absolute_error: 0.0300 - mean_squared_error: 0.0074 - val_loss: 25.2119 - val_mean_absolute_error: 0.0313 - val_mean_squared_error: 0.0079\n",
      "Epoch 12/100\n",
      "85686/85686 [==============================] - 2s - loss: 24.1738 - mean_absolute_error: 0.0296 - mean_squared_error: 0.0073 - val_loss: 24.0505 - val_mean_absolute_error: 0.0296 - val_mean_squared_error: 0.0073\n",
      "Epoch 13/100\n",
      "85686/85686 [==============================] - 2s - loss: 24.0615 - mean_absolute_error: 0.0293 - mean_squared_error: 0.0072 - val_loss: 23.4946 - val_mean_absolute_error: 0.0284 - val_mean_squared_error: 0.0070\n",
      "Epoch 14/100\n",
      "85686/85686 [==============================] - 2s - loss: 23.7882 - mean_absolute_error: 0.0289 - mean_squared_error: 0.0071 - val_loss: 23.0591 - val_mean_absolute_error: 0.0280 - val_mean_squared_error: 0.0069\n",
      "Epoch 15/100\n",
      "85686/85686 [==============================] - 2s - loss: 23.6564 - mean_absolute_error: 0.0287 - mean_squared_error: 0.0070 - val_loss: 23.9482 - val_mean_absolute_error: 0.0291 - val_mean_squared_error: 0.0070\n",
      "Epoch 16/100\n",
      "85686/85686 [==============================] - 2s - loss: 23.4818 - mean_absolute_error: 0.0284 - mean_squared_error: 0.0069 - val_loss: 23.2780 - val_mean_absolute_error: 0.0282 - val_mean_squared_error: 0.0069\n",
      "Epoch 17/100\n",
      "85686/85686 [==============================] - 2s - loss: 23.3767 - mean_absolute_error: 0.0282 - mean_squared_error: 0.0069 - val_loss: 22.9625 - val_mean_absolute_error: 0.0272 - val_mean_squared_error: 0.0066\n",
      "Epoch 18/100\n",
      "85686/85686 [==============================] - 2s - loss: 23.2441 - mean_absolute_error: 0.0280 - mean_squared_error: 0.0068 - val_loss: 23.0276 - val_mean_absolute_error: 0.0276 - val_mean_squared_error: 0.0068\n",
      "Epoch 19/100\n",
      "85686/85686 [==============================] - 2s - loss: 23.1504 - mean_absolute_error: 0.0278 - mean_squared_error: 0.0068 - val_loss: 23.3277 - val_mean_absolute_error: 0.0281 - val_mean_squared_error: 0.0068\n",
      "Epoch 20/100\n",
      "85686/85686 [==============================] - 2s - loss: 23.0075 - mean_absolute_error: 0.0277 - mean_squared_error: 0.0067 - val_loss: 23.7483 - val_mean_absolute_error: 0.0287 - val_mean_squared_error: 0.0068\n",
      "Epoch 21/100\n",
      "85686/85686 [==============================] - 2s - loss: 22.9811 - mean_absolute_error: 0.0275 - mean_squared_error: 0.0067 - val_loss: 22.7861 - val_mean_absolute_error: 0.0269 - val_mean_squared_error: 0.0065\n",
      "Epoch 22/100\n",
      "85686/85686 [==============================] - 2s - loss: 22.8382 - mean_absolute_error: 0.0273 - mean_squared_error: 0.0066 - val_loss: 22.2113 - val_mean_absolute_error: 0.0263 - val_mean_squared_error: 0.0064\n",
      "Epoch 23/100\n",
      "85686/85686 [==============================] - 2s - loss: 22.6429 - mean_absolute_error: 0.0271 - mean_squared_error: 0.0065 - val_loss: 22.4318 - val_mean_absolute_error: 0.0267 - val_mean_squared_error: 0.0065\n",
      "Epoch 24/100\n",
      "85686/85686 [==============================] - 2s - loss: 22.4813 - mean_absolute_error: 0.0269 - mean_squared_error: 0.0065 - val_loss: 22.9921 - val_mean_absolute_error: 0.0275 - val_mean_squared_error: 0.0066\n",
      "Epoch 25/100\n",
      "85686/85686 [==============================] - 2s - loss: 22.5430 - mean_absolute_error: 0.0268 - mean_squared_error: 0.0064 - val_loss: 22.9529 - val_mean_absolute_error: 0.0276 - val_mean_squared_error: 0.0065\n",
      "Epoch 26/100\n",
      "85686/85686 [==============================] - 2s - loss: 22.3728 - mean_absolute_error: 0.0267 - mean_squared_error: 0.0064 - val_loss: 22.5204 - val_mean_absolute_error: 0.0267 - val_mean_squared_error: 0.0065\n",
      "Epoch 27/100\n",
      "85686/85686 [==============================] - 2s - loss: 22.3906 - mean_absolute_error: 0.0265 - mean_squared_error: 0.0063 - val_loss: 21.8826 - val_mean_absolute_error: 0.0260 - val_mean_squared_error: 0.0062\n",
      "Epoch 28/100\n",
      "85686/85686 [==============================] - 2s - loss: 22.2964 - mean_absolute_error: 0.0264 - mean_squared_error: 0.0063 - val_loss: 21.9300 - val_mean_absolute_error: 0.0262 - val_mean_squared_error: 0.0063\n",
      "Epoch 29/100\n",
      "85686/85686 [==============================] - 2s - loss: 22.1454 - mean_absolute_error: 0.0263 - mean_squared_error: 0.0062 - val_loss: 22.2098 - val_mean_absolute_error: 0.0263 - val_mean_squared_error: 0.0061\n",
      "Epoch 30/100\n",
      "85686/85686 [==============================] - 2s - loss: 22.1235 - mean_absolute_error: 0.0262 - mean_squared_error: 0.0062 - val_loss: 23.8582 - val_mean_absolute_error: 0.0289 - val_mean_squared_error: 0.0068\n",
      "Epoch 31/100\n",
      "85686/85686 [==============================] - 2s - loss: 22.0926 - mean_absolute_error: 0.0260 - mean_squared_error: 0.0061 - val_loss: 21.6816 - val_mean_absolute_error: 0.0254 - val_mean_squared_error: 0.0060\n",
      "Epoch 32/100\n",
      "85686/85686 [==============================] - 2s - loss: 22.0202 - mean_absolute_error: 0.0259 - mean_squared_error: 0.0061 - val_loss: 22.1192 - val_mean_absolute_error: 0.0266 - val_mean_squared_error: 0.0063\n",
      "Epoch 33/100\n",
      "85686/85686 [==============================] - 2s - loss: 21.9312 - mean_absolute_error: 0.0258 - mean_squared_error: 0.0060 - val_loss: 22.0140 - val_mean_absolute_error: 0.0258 - val_mean_squared_error: 0.0060\n",
      "Epoch 34/100\n",
      "85686/85686 [==============================] - 2s - loss: 21.9409 - mean_absolute_error: 0.0257 - mean_squared_error: 0.0060 - val_loss: 22.1896 - val_mean_absolute_error: 0.0259 - val_mean_squared_error: 0.0061\n",
      "Epoch 35/100\n",
      "85686/85686 [==============================] - 2s - loss: 21.8969 - mean_absolute_error: 0.0256 - mean_squared_error: 0.0060 - val_loss: 21.2903 - val_mean_absolute_error: 0.0247 - val_mean_squared_error: 0.0057\n",
      "Epoch 36/100\n",
      "85686/85686 [==============================] - 2s - loss: 21.8156 - mean_absolute_error: 0.0256 - mean_squared_error: 0.0060 - val_loss: 21.5791 - val_mean_absolute_error: 0.0247 - val_mean_squared_error: 0.0058\n",
      "Epoch 37/100\n",
      "85686/85686 [==============================] - 2s - loss: 21.6989 - mean_absolute_error: 0.0254 - mean_squared_error: 0.0059 - val_loss: 21.3246 - val_mean_absolute_error: 0.0251 - val_mean_squared_error: 0.0058\n",
      "Epoch 38/100\n",
      "85686/85686 [==============================] - 2s - loss: 21.7006 - mean_absolute_error: 0.0253 - mean_squared_error: 0.0059 - val_loss: 20.9435 - val_mean_absolute_error: 0.0245 - val_mean_squared_error: 0.0058\n",
      "Epoch 39/100\n",
      "85686/85686 [==============================] - 2s - loss: 21.7064 - mean_absolute_error: 0.0253 - mean_squared_error: 0.0058 - val_loss: 22.9723 - val_mean_absolute_error: 0.0275 - val_mean_squared_error: 0.0064\n",
      "Epoch 40/100\n",
      "85686/85686 [==============================] - 2s - loss: 21.6042 - mean_absolute_error: 0.0252 - mean_squared_error: 0.0058 - val_loss: 22.7179 - val_mean_absolute_error: 0.0268 - val_mean_squared_error: 0.0061\n",
      "Epoch 41/100\n",
      "85686/85686 [==============================] - 2s - loss: 21.4520 - mean_absolute_error: 0.0251 - mean_squared_error: 0.0058 - val_loss: 20.8882 - val_mean_absolute_error: 0.0243 - val_mean_squared_error: 0.0056\n",
      "Epoch 42/100\n",
      "85686/85686 [==============================] - 2s - loss: 21.4598 - mean_absolute_error: 0.0251 - mean_squared_error: 0.0058 - val_loss: 21.8638 - val_mean_absolute_error: 0.0255 - val_mean_squared_error: 0.0056\n",
      "Epoch 43/100\n",
      "85686/85686 [==============================] - 2s - loss: 21.4727 - mean_absolute_error: 0.0250 - mean_squared_error: 0.0058 - val_loss: 21.3156 - val_mean_absolute_error: 0.0244 - val_mean_squared_error: 0.0055\n",
      "Epoch 44/100\n",
      "85686/85686 [==============================] - 2s - loss: 21.3737 - mean_absolute_error: 0.0249 - mean_squared_error: 0.0057 - val_loss: 20.5097 - val_mean_absolute_error: 0.0239 - val_mean_squared_error: 0.0056\n",
      "Epoch 45/100\n",
      "85686/85686 [==============================] - 2s - loss: 21.3741 - mean_absolute_error: 0.0249 - mean_squared_error: 0.0057 - val_loss: 21.2191 - val_mean_absolute_error: 0.0245 - val_mean_squared_error: 0.0056\n",
      "Epoch 46/100\n",
      "85686/85686 [==============================] - 2s - loss: 21.4047 - mean_absolute_error: 0.0248 - mean_squared_error: 0.0057 - val_loss: 20.6353 - val_mean_absolute_error: 0.0236 - val_mean_squared_error: 0.0054\n",
      "Epoch 47/100\n",
      "85686/85686 [==============================] - 2s - loss: 21.3082 - mean_absolute_error: 0.0248 - mean_squared_error: 0.0057 - val_loss: 21.6780 - val_mean_absolute_error: 0.0250 - val_mean_squared_error: 0.0058\n",
      "Epoch 48/100\n",
      "85686/85686 [==============================] - 2s - loss: 21.2533 - mean_absolute_error: 0.0247 - mean_squared_error: 0.0057 - val_loss: 20.9272 - val_mean_absolute_error: 0.0242 - val_mean_squared_error: 0.0055\n",
      "Epoch 49/100\n",
      "85686/85686 [==============================] - 2s - loss: 21.3854 - mean_absolute_error: 0.0247 - mean_squared_error: 0.0057 - val_loss: 20.8142 - val_mean_absolute_error: 0.0241 - val_mean_squared_error: 0.0055\n",
      "Epoch 50/100\n",
      "85686/85686 [==============================] - 2s - loss: 21.2079 - mean_absolute_error: 0.0246 - mean_squared_error: 0.0056 - val_loss: 21.5738 - val_mean_absolute_error: 0.0252 - val_mean_squared_error: 0.0058\n",
      "Epoch 51/100\n",
      "85686/85686 [==============================] - 2s - loss: 21.2159 - mean_absolute_error: 0.0246 - mean_squared_error: 0.0056 - val_loss: 22.5809 - val_mean_absolute_error: 0.0266 - val_mean_squared_error: 0.0060\n",
      "Epoch 52/100\n",
      "85686/85686 [==============================] - 2s - loss: 21.2732 - mean_absolute_error: 0.0246 - mean_squared_error: 0.0056 - val_loss: 22.6336 - val_mean_absolute_error: 0.0263 - val_mean_squared_error: 0.0059\n",
      "Epoch 53/100\n",
      "85686/85686 [==============================] - 2s - loss: 21.1851 - mean_absolute_error: 0.0245 - mean_squared_error: 0.0056 - val_loss: 20.5283 - val_mean_absolute_error: 0.0236 - val_mean_squared_error: 0.0054\n",
      "Epoch 54/100\n",
      "85686/85686 [==============================] - 2s - loss: 21.1996 - mean_absolute_error: 0.0245 - mean_squared_error: 0.0056 - val_loss: 21.6222 - val_mean_absolute_error: 0.0251 - val_mean_squared_error: 0.0056\n",
      "Epoch 55/100\n",
      "85686/85686 [==============================] - 2s - loss: 21.0680 - mean_absolute_error: 0.0244 - mean_squared_error: 0.0056 - val_loss: 20.8633 - val_mean_absolute_error: 0.0247 - val_mean_squared_error: 0.0058\n",
      "Epoch 56/100\n",
      "85686/85686 [==============================] - 2s - loss: 21.1573 - mean_absolute_error: 0.0244 - mean_squared_error: 0.0056 - val_loss: 22.0886 - val_mean_absolute_error: 0.0260 - val_mean_squared_error: 0.0058\n",
      "Epoch 57/100\n",
      "85686/85686 [==============================] - 2s - loss: 21.0620 - mean_absolute_error: 0.0244 - mean_squared_error: 0.0055 - val_loss: 21.3383 - val_mean_absolute_error: 0.0250 - val_mean_squared_error: 0.0056\n",
      "Epoch 58/100\n",
      "85686/85686 [==============================] - 2s - loss: 21.1184 - mean_absolute_error: 0.0243 - mean_squared_error: 0.0055 - val_loss: 20.5824 - val_mean_absolute_error: 0.0233 - val_mean_squared_error: 0.0053\n",
      "Epoch 59/100\n",
      "85686/85686 [==============================] - 2s - loss: 21.0965 - mean_absolute_error: 0.0243 - mean_squared_error: 0.0055 - val_loss: 20.7476 - val_mean_absolute_error: 0.0235 - val_mean_squared_error: 0.0053\n",
      "Epoch 60/100\n",
      "85686/85686 [==============================] - 2s - loss: 21.0522 - mean_absolute_error: 0.0242 - mean_squared_error: 0.0055 - val_loss: 22.1781 - val_mean_absolute_error: 0.0261 - val_mean_squared_error: 0.0061\n",
      "Epoch 61/100\n",
      "85686/85686 [==============================] - 2s - loss: 20.9599 - mean_absolute_error: 0.0242 - mean_squared_error: 0.0055 - val_loss: 20.9889 - val_mean_absolute_error: 0.0248 - val_mean_squared_error: 0.0056\n",
      "Epoch 62/100\n",
      "85686/85686 [==============================] - 2s - loss: 20.9824 - mean_absolute_error: 0.0242 - mean_squared_error: 0.0055 - val_loss: 21.7018 - val_mean_absolute_error: 0.0258 - val_mean_squared_error: 0.0056\n",
      "Epoch 63/100\n",
      "85686/85686 [==============================] - 2s - loss: 21.0018 - mean_absolute_error: 0.0242 - mean_squared_error: 0.0055 - val_loss: 20.8030 - val_mean_absolute_error: 0.0239 - val_mean_squared_error: 0.0055\n",
      "Epoch 64/100\n",
      "85686/85686 [==============================] - 2s - loss: 20.9997 - mean_absolute_error: 0.0242 - mean_squared_error: 0.0055 - val_loss: 21.0233 - val_mean_absolute_error: 0.0243 - val_mean_squared_error: 0.0054\n",
      "Epoch 65/100\n",
      "85686/85686 [==============================] - 2s - loss: 20.9908 - mean_absolute_error: 0.0242 - mean_squared_error: 0.0055 - val_loss: 20.4322 - val_mean_absolute_error: 0.0231 - val_mean_squared_error: 0.0052\n",
      "Epoch 66/100\n",
      "85686/85686 [==============================] - 2s - loss: 20.9249 - mean_absolute_error: 0.0241 - mean_squared_error: 0.0055 - val_loss: 20.9382 - val_mean_absolute_error: 0.0238 - val_mean_squared_error: 0.0052\n",
      "Epoch 67/100\n",
      "85686/85686 [==============================] - 2s - loss: 20.9733 - mean_absolute_error: 0.0241 - mean_squared_error: 0.0054 - val_loss: 20.8039 - val_mean_absolute_error: 0.0240 - val_mean_squared_error: 0.0054\n",
      "Epoch 68/100\n",
      "85686/85686 [==============================] - 2s - loss: 20.9286 - mean_absolute_error: 0.0240 - mean_squared_error: 0.0054 - val_loss: 21.0103 - val_mean_absolute_error: 0.0241 - val_mean_squared_error: 0.0053\n",
      "Epoch 69/100\n",
      "85686/85686 [==============================] - 2s - loss: 20.8848 - mean_absolute_error: 0.0240 - mean_squared_error: 0.0054 - val_loss: 21.9446 - val_mean_absolute_error: 0.0253 - val_mean_squared_error: 0.0058\n",
      "Epoch 70/100\n",
      "85686/85686 [==============================] - 2s - loss: 20.8601 - mean_absolute_error: 0.0240 - mean_squared_error: 0.0054 - val_loss: 20.5922 - val_mean_absolute_error: 0.0238 - val_mean_squared_error: 0.0053\n",
      "Epoch 71/100\n",
      "85686/85686 [==============================] - 2s - loss: 20.8352 - mean_absolute_error: 0.0240 - mean_squared_error: 0.0054 - val_loss: 20.7480 - val_mean_absolute_error: 0.0240 - val_mean_squared_error: 0.0054\n",
      "Epoch 72/100\n",
      "85686/85686 [==============================] - 2s - loss: 20.8776 - mean_absolute_error: 0.0240 - mean_squared_error: 0.0054 - val_loss: 21.0366 - val_mean_absolute_error: 0.0239 - val_mean_squared_error: 0.0053\n",
      "Epoch 73/100\n",
      "85686/85686 [==============================] - 2s - loss: 20.8397 - mean_absolute_error: 0.0239 - mean_squared_error: 0.0054 - val_loss: 21.4185 - val_mean_absolute_error: 0.0247 - val_mean_squared_error: 0.0056\n",
      "Epoch 74/100\n",
      "85686/85686 [==============================] - 2s - loss: 20.8193 - mean_absolute_error: 0.0239 - mean_squared_error: 0.0054 - val_loss: 19.8897 - val_mean_absolute_error: 0.0222 - val_mean_squared_error: 0.0051\n",
      "Epoch 75/100\n",
      "85686/85686 [==============================] - 2s - loss: 20.8348 - mean_absolute_error: 0.0238 - mean_squared_error: 0.0053 - val_loss: 19.7668 - val_mean_absolute_error: 0.0220 - val_mean_squared_error: 0.0050\n",
      "Epoch 76/100\n",
      "85686/85686 [==============================] - 2s - loss: 20.7363 - mean_absolute_error: 0.0238 - mean_squared_error: 0.0053 - val_loss: 21.0041 - val_mean_absolute_error: 0.0240 - val_mean_squared_error: 0.0053\n",
      "Epoch 77/100\n",
      "85686/85686 [==============================] - 2s - loss: 20.7097 - mean_absolute_error: 0.0238 - mean_squared_error: 0.0053 - val_loss: 21.3617 - val_mean_absolute_error: 0.0248 - val_mean_squared_error: 0.0054\n",
      "Epoch 78/100\n",
      "85686/85686 [==============================] - 2s - loss: 20.7791 - mean_absolute_error: 0.0238 - mean_squared_error: 0.0053 - val_loss: 20.2360 - val_mean_absolute_error: 0.0228 - val_mean_squared_error: 0.0051\n",
      "Epoch 79/100\n",
      "85686/85686 [==============================] - 2s - loss: 20.7113 - mean_absolute_error: 0.0237 - mean_squared_error: 0.0053 - val_loss: 20.4254 - val_mean_absolute_error: 0.0234 - val_mean_squared_error: 0.0053\n",
      "Epoch 80/100\n",
      "85686/85686 [==============================] - 2s - loss: 20.7797 - mean_absolute_error: 0.0238 - mean_squared_error: 0.0053 - val_loss: 20.9537 - val_mean_absolute_error: 0.0238 - val_mean_squared_error: 0.0053\n",
      "Epoch 81/100\n",
      "85686/85686 [==============================] - 2s - loss: 20.7216 - mean_absolute_error: 0.0237 - mean_squared_error: 0.0053 - val_loss: 20.5530 - val_mean_absolute_error: 0.0236 - val_mean_squared_error: 0.0053\n",
      "Epoch 82/100\n",
      "85686/85686 [==============================] - 2s - loss: 20.7220 - mean_absolute_error: 0.0237 - mean_squared_error: 0.0053 - val_loss: 20.6787 - val_mean_absolute_error: 0.0235 - val_mean_squared_error: 0.0053\n",
      "Epoch 83/100\n",
      "85686/85686 [==============================] - 2s - loss: 20.7718 - mean_absolute_error: 0.0236 - mean_squared_error: 0.0053 - val_loss: 20.3657 - val_mean_absolute_error: 0.0227 - val_mean_squared_error: 0.0051\n",
      "Epoch 84/100\n",
      "85686/85686 [==============================] - 2s - loss: 20.6722 - mean_absolute_error: 0.0236 - mean_squared_error: 0.0052 - val_loss: 20.7658 - val_mean_absolute_error: 0.0241 - val_mean_squared_error: 0.0055\n",
      "Epoch 85/100\n",
      "85686/85686 [==============================] - 2s - loss: 20.7113 - mean_absolute_error: 0.0236 - mean_squared_error: 0.0053 - val_loss: 19.7480 - val_mean_absolute_error: 0.0220 - val_mean_squared_error: 0.0050\n",
      "Epoch 86/100\n",
      "85686/85686 [==============================] - 2s - loss: 20.6634 - mean_absolute_error: 0.0236 - mean_squared_error: 0.0052 - val_loss: 20.5816 - val_mean_absolute_error: 0.0234 - val_mean_squared_error: 0.0051\n",
      "Epoch 87/100\n",
      "85686/85686 [==============================] - 2s - loss: 20.5740 - mean_absolute_error: 0.0235 - mean_squared_error: 0.0052 - val_loss: 20.4046 - val_mean_absolute_error: 0.0231 - val_mean_squared_error: 0.0051\n",
      "Epoch 88/100\n",
      "85686/85686 [==============================] - 2s - loss: 20.6466 - mean_absolute_error: 0.0235 - mean_squared_error: 0.0052 - val_loss: 20.4048 - val_mean_absolute_error: 0.0232 - val_mean_squared_error: 0.0051\n",
      "Epoch 89/100\n",
      "85686/85686 [==============================] - 2s - loss: 20.5654 - mean_absolute_error: 0.0235 - mean_squared_error: 0.0052 - val_loss: 21.6556 - val_mean_absolute_error: 0.0248 - val_mean_squared_error: 0.0057\n",
      "Epoch 90/100\n",
      "85686/85686 [==============================] - 2s - loss: 20.5614 - mean_absolute_error: 0.0235 - mean_squared_error: 0.0052 - val_loss: 21.7838 - val_mean_absolute_error: 0.0256 - val_mean_squared_error: 0.0057\n",
      "Epoch 91/100\n",
      "85686/85686 [==============================] - 2s - loss: 20.6257 - mean_absolute_error: 0.0235 - mean_squared_error: 0.0052 - val_loss: 21.6956 - val_mean_absolute_error: 0.0249 - val_mean_squared_error: 0.0054\n",
      "Epoch 92/100\n",
      "85686/85686 [==============================] - 2s - loss: 20.6419 - mean_absolute_error: 0.0234 - mean_squared_error: 0.0052 - val_loss: 20.3097 - val_mean_absolute_error: 0.0227 - val_mean_squared_error: 0.0051\n",
      "Epoch 93/100\n",
      "85686/85686 [==============================] - 2s - loss: 20.5583 - mean_absolute_error: 0.0234 - mean_squared_error: 0.0052 - val_loss: 20.9525 - val_mean_absolute_error: 0.0239 - val_mean_squared_error: 0.0051\n",
      "Epoch 94/100\n",
      "85686/85686 [==============================] - 2s - loss: 20.4799 - mean_absolute_error: 0.0234 - mean_squared_error: 0.0052 - val_loss: 19.8221 - val_mean_absolute_error: 0.0225 - val_mean_squared_error: 0.0051\n",
      "Epoch 95/100\n",
      "85686/85686 [==============================] - 2s - loss: 20.5651 - mean_absolute_error: 0.0234 - mean_squared_error: 0.0052 - val_loss: 20.3179 - val_mean_absolute_error: 0.0226 - val_mean_squared_error: 0.0050\n",
      "Epoch 96/100\n",
      "85686/85686 [==============================] - 2s - loss: 20.5460 - mean_absolute_error: 0.0234 - mean_squared_error: 0.0051 - val_loss: 20.8545 - val_mean_absolute_error: 0.0236 - val_mean_squared_error: 0.0052\n",
      "Epoch 97/100\n",
      "85686/85686 [==============================] - 2s - loss: 20.5886 - mean_absolute_error: 0.0234 - mean_squared_error: 0.0052 - val_loss: 20.5170 - val_mean_absolute_error: 0.0232 - val_mean_squared_error: 0.0051\n",
      "Epoch 98/100\n",
      "85686/85686 [==============================] - 2s - loss: 20.4850 - mean_absolute_error: 0.0233 - mean_squared_error: 0.0051 - val_loss: 20.4361 - val_mean_absolute_error: 0.0237 - val_mean_squared_error: 0.0054\n",
      "Epoch 99/100\n",
      "85686/85686 [==============================] - 2s - loss: 20.4826 - mean_absolute_error: 0.0233 - mean_squared_error: 0.0051 - val_loss: 21.4133 - val_mean_absolute_error: 0.0243 - val_mean_squared_error: 0.0055\n",
      "Epoch 100/100\n",
      "85686/85686 [==============================] - 2s - loss: 20.4112 - mean_absolute_error: 0.0233 - mean_squared_error: 0.0051 - val_loss: 19.9443 - val_mean_absolute_error: 0.0220 - val_mean_squared_error: 0.0049\n",
      "The running takes 4.139905432860057 min\n"
     ]
    }
   ],
   "source": [
    "input_dim = np.shape(train_)[1]\n",
    "\n",
    "encoder_2D, history_2D = vae_133(train_, train_vali, epoch_no = 100, \\\n",
    "                  encoder_dim=[input_dim, 600, 2], decoder_dim=[input_dim, 600, 2])"
   ]
  },
  {
   "cell_type": "code",
   "execution_count": 51,
   "metadata": {
    "collapsed": false
   },
   "outputs": [
    {
     "name": "stdout",
     "output_type": "stream",
     "text": [
      "['loss', 'mean_absolute_error', 'val_mean_squared_error', 'val_mean_absolute_error', 'mean_squared_error', 'val_loss']\n"
     ]
    },
    {
     "data": {
      "image/png": "[encoded data removed]",
      "text/plain": [
       "<matplotlib.figure.Figure at 0x7fca7703ded0>"
      ]
     },
     "metadata": {},
     "output_type": "display_data"
    }
   ],
   "source": [
    "print(history.history.keys())\n",
    "#plt.plot(history.history['loss'])\n",
    "#plt.plot(history.history['val_loss'])\n",
    "plt.figure(figsize=(10,8))\n",
    "plt.plot(history.history['mean_absolute_error'], label = 'MAE for training')\n",
    "plt.plot(history.history['val_mean_absolute_error'], label = 'MAE for validation')\n",
    "plt.xticks(fontsize = 18)\n",
    "plt.yticks(fontsize = 18)\n",
    "plt.xlabel('Number of epochs',fontsize = 28)\n",
    "plt.ylabel('$MAE$',fontsize = 24)\n",
    "plt.legend(fontsize = 24)\n",
    "plt.savefig('Results/training_loss.png',dpi=1200)"
   ]
  },
  {
   "cell_type": "code",
   "execution_count": null,
   "metadata": {
    "collapsed": true
   },
   "outputs": [],
   "source": [
    "df_vae_loss = pd.DataFrame(history.history)\n",
    "df_vae_loss.describe()\n",
    "df_vae_loss.to_csv('Results/training_loss_v1.csv', header = True)"
   ]
  },
  {
   "cell_type": "code",
   "execution_count": 57,
   "metadata": {
    "collapsed": false
   },
   "outputs": [
    {
     "name": "stdout",
     "output_type": "stream",
     "text": [
      "<type 'list'>\n"
     ]
    }
   ],
   "source": [
    "color_label = [str(item/np.max((df_trainlabel[i]))) for item in (abs(df_trainlabel[i]))]\n",
    "\n",
    "print type(color_label)"
   ]
  },
  {
   "cell_type": "code",
   "execution_count": 72,
   "metadata": {
    "collapsed": false
   },
   "outputs": [
    {
     "name": "stderr",
     "output_type": "stream",
     "text": [
      "/home/peng/anaconda2/lib/python2.7/site-packages/sklearn/preprocessing/data.py:321: DeprecationWarning: Passing 1d arrays as data is deprecated in 0.17 and will raise ValueError in 0.19. Reshape your data either using X.reshape(-1, 1) if your data has a single feature or X.reshape(1, -1) if it contains a single sample.\n",
      "  warnings.warn(DEPRECATION_MSG_1D, DeprecationWarning)\n",
      "/home/peng/anaconda2/lib/python2.7/site-packages/sklearn/preprocessing/data.py:356: DeprecationWarning: Passing 1d arrays as data is deprecated in 0.17 and will raise ValueError in 0.19. Reshape your data either using X.reshape(-1, 1) if your data has a single feature or X.reshape(1, -1) if it contains a single sample.\n",
      "  warnings.warn(DEPRECATION_MSG_1D, DeprecationWarning)\n"
     ]
    }
   ],
   "source": [
    "color_label_1 = MinMaxScaler().fit_transform(np.array(df_trainlabel[i]))"
   ]
  },
  {
   "cell_type": "code",
   "execution_count": 73,
   "metadata": {
    "collapsed": false
   },
   "outputs": [],
   "source": [
    "color_label_2 = [str(item) for item in ((color_label_1))]"
   ]
  },
  {
   "cell_type": "code",
   "execution_count": 66,
   "metadata": {
    "collapsed": false
   },
   "outputs": [
    {
     "data": {
      "text/plain": [
       "['0.536802464909',\n",
       " '0.477576172544',\n",
       " '0.610407394728',\n",
       " '0.872988702499',\n",
       " '0.763779527559']"
      ]
     },
     "execution_count": 66,
     "metadata": {},
     "output_type": "execute_result"
    }
   ],
   "source": [
    "color_label_2[0:5]"
   ]
  },
  {
   "cell_type": "code",
   "execution_count": 77,
   "metadata": {
    "collapsed": false
   },
   "outputs": [
    {
     "data": {
      "image/png": "[encoded data removed]",
      "text/plain": [
       "<matplotlib.figure.Figure at 0x7fca78c63610>"
      ]
     },
     "metadata": {},
     "output_type": "display_data"
    }
   ],
   "source": [
    "import seaborn as sns\n",
    "for i in  [  'lumo' ]:\n",
    "        \n",
    "    color_label = [str(item/np.max((df_testlabel[i]))) for item in ((df_testlabel[i]))]\n",
    "    \n",
    "    ''''''\n",
    "    #color_label_df = MinMaxScaler().fit_transform((df_trainlabel[i]))\n",
    "                      \n",
    "    #color_label = [str(item) for item in ((color_label_df))]\n",
    "\n",
    "                   \n",
    "    plt.figure(figsize=(10,8))\n",
    "    plt.scatter(test_encoded[:,0], test_encoded[:,1],marker = 'o', linewidth = '0', cmap = plt.cm.coolwarm,\\\n",
    "            c = color_label, s = 20, alpha = 1.0)\n",
    "    plt.xticks(fontsize = 18)\n",
    "    plt.yticks(fontsize = 18)\n",
    "    plt.xlabel('$\\mu$',fontsize = 28)\n",
    "    plt.ylabel('$log\\sigma$',fontsize = 28)\n",
    "\n",
    "    plt.legend(fontsize = 20, loc=2)\n",
    "    plt.colorbar()\n",
    "#    plt.savefig('Results/vae_2D_lumo.png',dpi=1200)\n",
    "    \n",
    "    plt.show()"
   ]
  },
  {
   "cell_type": "code",
   "execution_count": 33,
   "metadata": {
    "collapsed": false
   },
   "outputs": [
    {
     "name": "stdout",
     "output_type": "stream",
     "text": [
      "the dimension for lattent representation is  2\n",
      "24288/26777 [==========================>...] - ETA: 0s"
     ]
    },
    {
     "data": {
      "text/plain": [
       "0.030189213342234254"
      ]
     },
     "execution_count": 33,
     "metadata": {},
     "output_type": "execute_result"
    }
   ],
   "source": [
    "# build a baseline model to compare the performance between a vae encoded input and a raw input (666)\n",
    "train_encoded, test_encoded = encoding(encoder_2D, train=train, test= test)\n",
    "\n",
    "regressor = baseline_model(dim=[train_encoded.shape[1],200,1])\n",
    "history_regress = regressor.fit(train_encoded, trainlabel,\n",
    "        shuffle=True,\n",
    "        nb_epoch=50,\n",
    "        batch_size=100,\n",
    "        verbose = 0,\n",
    "        )\n",
    "regressor.evaluate(test_encoded, testlabel)"
   ]
  },
  {
   "cell_type": "code",
   "execution_count": 21,
   "metadata": {
    "collapsed": true
   },
   "outputs": [],
   "source": [
    "def baseline_model(dim= [1,2,3]):\n",
    "    \n",
    "    #define a baseline model only consisting of one hidden layer\n",
    "\t# create model\n",
    "\tmodel = Sequential()\n",
    "\tmodel.add(Dense(dim[1], input_dim=dim[0],  activation='relu'))\n",
    "\tmodel.add(Dense(dim[-1], activation='linear'))\n",
    "\t# Compile model\n",
    "\tmodel.compile(loss='mean_absolute_error', optimizer='adam')\n",
    "\treturn model"
   ]
  },
  {
   "cell_type": "code",
   "execution_count": 4,
   "metadata": {
    "collapsed": false
   },
   "outputs": [],
   "source": [
    "#load molecule data, the coordinate, atom_number, elements are essential as the input \n",
    "\n",
    "attrs_list =[ 'atom_number', 'data_base', 'atom_list', 'atom_coordinate_list', 'frequency_list','target_list',\\\n",
    "          'smile_list', 'atom_charge']\n",
    "\n",
    "metrics = [r2_score, mean_absolute_error, mean_squared_error, median_absolute_error]\n",
    "\n",
    "def load_133k(num = None):\n",
    "    \n",
    "    data_path = '/home/peng/Documents/Project_C/QSAR_nlp/Dataset_qm9/'\n",
    "    data_set = \"133K.hdf5\"\n",
    "\n",
    "    coord_list = []\n",
    "    element_list = []\n",
    "    target_list = []\n",
    "    atom_no_list = []\n",
    "    \n",
    "\n",
    "    f = h5py.File(data_path + data_set, \"r\")\n",
    "    if not num:\n",
    "        limit = len(f)+1\n",
    "    else:\n",
    "        limit = num\n",
    "        \n",
    "    for i in range(1, limit):\n",
    "#        str_element = str(f[str(i)].attrs[attrs_list[2]], 'utf-8')\n",
    "#        split_str = []\n",
    " #       for j in str_element:\n",
    "#            split_str.append(j) \n",
    "        \n",
    "\n",
    "#        element_list.append(np.array(split_str))\n",
    "        element_list.append(f[str(i)].attrs[attrs_list[2]])\n",
    "        coord_list.append(f[str(i)].attrs[attrs_list[3]])    \n",
    "        target_list.append(f[str(i)].attrs[attrs_list[-3]]) \n",
    "        atom_no_list.append(f[str(i)].attrs[attrs_list[0]])   \n",
    "        if i %100000 == 0:\n",
    "            print (\"already finish \", i)\n",
    "    f.close()\n",
    "    \n",
    "    #df = pd.DataFrame({'coord':coord_list, 'element':element_list, 'target':target_list})\n",
    "    \n",
    "    return element_list, coord_list, target_list, atom_no_list\n",
    "\n",
    "def get_attributes(element_list, coord_list, target_list):\n",
    "\n",
    "    fit_list = []\n",
    "#    target_single_list = []\n",
    "    for i in range(0, len(element_list)):\n",
    "        fit_list.append((element_list[i], coord_list[i]))\n",
    "#        target_single_list.append(target_list[i][-1])\n",
    "        \n",
    "    return fit_list #, target_single_list\n",
    "\n",
    "def get_train_list(num=None):\n",
    "\n",
    "    # extract the element, the coordinates, the targets and the atom_no from the 133k dataset\n",
    "    element_list, coord_list, target_list, atom_no_list = load_133k(num=num)\n",
    "    # generate the (element, coordinate) tuple for following feature engineering\n",
    "    fit_list = get_attributes(element_list, coord_list, target_list)\n",
    "\n",
    "    # generate feature engineered input features, CM or BOB\n",
    "    feature_methods = [CoulombMatrix(), BagOfBonds()]\n",
    "    feat_co = feature_methods[1]\n",
    "    train_list = feat_co.fit_transform(fit_list)\n",
    "    return train_list\n",
    "\n"
   ]
  },
  {
   "cell_type": "code",
   "execution_count": 5,
   "metadata": {
    "collapsed": false
   },
   "outputs": [
    {
     "name": "stdout",
     "output_type": "stream",
     "text": [
      "('already finish ', 100000)\n",
      "(133885, 666)\n"
     ]
    }
   ],
   "source": [
    "df = pd.read_pickle('targets_15.pkl')\n",
    "\n",
    "train_list = get_train_list()\n",
    "\n",
    "print (np.shape(train_list))"
   ]
  },
  {
   "cell_type": "code",
   "execution_count": 6,
   "metadata": {
    "collapsed": true
   },
   "outputs": [],
   "source": [
    "# apply minmax to train_list \n",
    "\n",
    "train_list_scale = MinMaxScaler().fit_transform(train_list)\n",
    "\n",
    "target_single_list = df['gap']\n",
    "\n",
    "train, test, trainlabel, testlabel = train_test_split(train_list_scale, target_single_list,\\\n",
    "                                                      test_size=0.2, random_state = 32)\n",
    "\n",
    "train_, train_vali, train_label, vali_label = train_test_split(train, trainlabel, \\\n",
    "                                                              test_size=0.2, random_state = 32)"
   ]
  },
  {
   "cell_type": "code",
   "execution_count": 7,
   "metadata": {
    "collapsed": true
   },
   "outputs": [],
   "source": [
    "df_trainlabel, df_testlabel = train_test_split(df,\\\n",
    "                                                      test_size=0.2, random_state = 32)"
   ]
  },
  {
   "cell_type": "code",
   "execution_count": 81,
   "metadata": {
    "collapsed": false
   },
   "outputs": [
    {
     "name": "stdout",
     "output_type": "stream",
     "text": [
      "('now we finish ', 'dipole')\n",
      "('now we finish ', 'polar')\n",
      "('now we finish ', 'homo')\n",
      "('now we finish ', 'lumo')\n",
      "('now we finish ', 'gap')\n"
     ]
    }
   ],
   "source": [
    "# use dense vae to predict properties\n",
    "\n",
    "df_predict_thermal_base = pd.DataFrame({'null':np.arange(0, len(testlabel))})\n",
    "dic_thermal_metric_base = {}\n",
    "\n",
    "#thermal_property_list = ['zpe', 'U0', 'U', 'H', 'G', 'Cv']\n",
    "\n",
    "thermal_property_list = [ 'dipole', 'polar',\n",
    "               'homo', 'lumo', 'gap']\n",
    "\n",
    "for thermal_property in thermal_property_list:\n",
    "    trainlabel_thermal, testlabel_thermal = train_test_split(df[thermal_property],\\\n",
    "                                                      test_size=0.2, random_state = 32)\n",
    "    \n",
    "    predict_test = fit_predict(trainlabel_thermal, testlabel_thermal)\n",
    "    df_predict_thermal_base[thermal_property]=predict_test\n",
    "    dic_thermal_metric_base[thermal_property]=metric_test(testlabel_thermal, predict_test)\n",
    "    \n",
    "    print (\"now we finish \", thermal_property)\n",
    "    "
   ]
  },
  {
   "cell_type": "code",
   "execution_count": 83,
   "metadata": {
    "collapsed": false
   },
   "outputs": [
    {
     "data": {
      "text/html": [
       "<div>\n",
       "<table border=\"1\" class=\"dataframe\">\n",
       "  <thead>\n",
       "    <tr style=\"text-align: right;\">\n",
       "      <th></th>\n",
       "      <th>dipole</th>\n",
       "      <th>gap</th>\n",
       "      <th>homo</th>\n",
       "      <th>lumo</th>\n",
       "      <th>polar</th>\n",
       "    </tr>\n",
       "  </thead>\n",
       "  <tbody>\n",
       "    <tr>\n",
       "      <th>0</th>\n",
       "      <td>0.629566</td>\n",
       "      <td>0.816953</td>\n",
       "      <td>0.736518</td>\n",
       "      <td>0.858320</td>\n",
       "      <td>0.962145</td>\n",
       "    </tr>\n",
       "    <tr>\n",
       "      <th>1</th>\n",
       "      <td>0.644348</td>\n",
       "      <td>0.015419</td>\n",
       "      <td>0.008394</td>\n",
       "      <td>0.013197</td>\n",
       "      <td>0.987028</td>\n",
       "    </tr>\n",
       "    <tr>\n",
       "      <th>2</th>\n",
       "      <td>0.865225</td>\n",
       "      <td>0.000418</td>\n",
       "      <td>0.000130</td>\n",
       "      <td>0.000315</td>\n",
       "      <td>2.540272</td>\n",
       "    </tr>\n",
       "    <tr>\n",
       "      <th>3</th>\n",
       "      <td>0.448287</td>\n",
       "      <td>0.012321</td>\n",
       "      <td>0.006443</td>\n",
       "      <td>0.010083</td>\n",
       "      <td>0.675074</td>\n",
       "    </tr>\n",
       "  </tbody>\n",
       "</table>\n",
       "</div>"
      ],
      "text/plain": [
       "     dipole       gap      homo      lumo     polar\n",
       "0  0.629566  0.816953  0.736518  0.858320  0.962145\n",
       "1  0.644348  0.015419  0.008394  0.013197  0.987028\n",
       "2  0.865225  0.000418  0.000130  0.000315  2.540272\n",
       "3  0.448287  0.012321  0.006443  0.010083  0.675074"
      ]
     },
     "execution_count": 83,
     "metadata": {},
     "output_type": "execute_result"
    }
   ],
   "source": [
    "dic_metric = pd.DataFrame(dic_thermal_metric_base)\n",
    "dic_metric.to_csv('Results/metrics_base.csv', header = True)\n",
    "dic_metric"
   ]
  },
  {
   "cell_type": "code",
   "execution_count": 29,
   "metadata": {
    "collapsed": false
   },
   "outputs": [
    {
     "data": {
      "text/html": [
       "<div>\n",
       "<table border=\"1\" class=\"dataframe\">\n",
       "  <thead>\n",
       "    <tr style=\"text-align: right;\">\n",
       "      <th></th>\n",
       "      <th>dipole</th>\n",
       "      <th>gap</th>\n",
       "      <th>homo</th>\n",
       "      <th>lumo</th>\n",
       "      <th>polar</th>\n",
       "    </tr>\n",
       "  </thead>\n",
       "  <tbody>\n",
       "    <tr>\n",
       "      <th>0</th>\n",
       "      <td>0.239890</td>\n",
       "      <td>0.389142</td>\n",
       "      <td>0.169248</td>\n",
       "      <td>0.430172</td>\n",
       "      <td>0.702024</td>\n",
       "    </tr>\n",
       "    <tr>\n",
       "      <th>1</th>\n",
       "      <td>0.960560</td>\n",
       "      <td>0.029904</td>\n",
       "      <td>0.014522</td>\n",
       "      <td>0.027677</td>\n",
       "      <td>2.950498</td>\n",
       "    </tr>\n",
       "    <tr>\n",
       "      <th>2</th>\n",
       "      <td>1.775396</td>\n",
       "      <td>0.001396</td>\n",
       "      <td>0.000409</td>\n",
       "      <td>0.001269</td>\n",
       "      <td>19.995722</td>\n",
       "    </tr>\n",
       "    <tr>\n",
       "      <th>3</th>\n",
       "      <td>0.740716</td>\n",
       "      <td>0.025920</td>\n",
       "      <td>0.010366</td>\n",
       "      <td>0.022103</td>\n",
       "      <td>1.806559</td>\n",
       "    </tr>\n",
       "  </tbody>\n",
       "</table>\n",
       "</div>"
      ],
      "text/plain": [
       "     dipole       gap      homo      lumo      polar\n",
       "0  0.239890  0.389142  0.169248  0.430172   0.702024\n",
       "1  0.960560  0.029904  0.014522  0.027677   2.950498\n",
       "2  1.775396  0.001396  0.000409  0.001269  19.995722\n",
       "3  0.740716  0.025920  0.010366  0.022103   1.806559"
      ]
     },
     "execution_count": 29,
     "metadata": {},
     "output_type": "execute_result"
    }
   ],
   "source": [
    "dic_metric"
   ]
  },
  {
   "cell_type": "code",
   "execution_count": 84,
   "metadata": {
    "collapsed": false
   },
   "outputs": [],
   "source": [
    "df_predict_thermal_base.to_csv('Results/predict_base.csv', header = True)\n"
   ]
  },
  {
   "cell_type": "code",
   "execution_count": 80,
   "metadata": {
    "collapsed": true
   },
   "outputs": [],
   "source": [
    "def fit_predict(trainlabel, testlabel):\n",
    "    regressor = baseline_model(dim=[train.shape[1],200,1])\n",
    "    history_regress = regressor.fit(train, trainlabel,\n",
    "            shuffle=True,\n",
    "            nb_epoch=100,\n",
    "            batch_size=100,\n",
    "            verbose = 0\n",
    "            )\n",
    "    predict_test = regressor.predict(test, verbose = 0)\n",
    "    return predict_test\n",
    "\n",
    "def metric_test(testlabel, predict_test):\n",
    "    metric_string = []\n",
    "    for i in metrics:\n",
    "        metric_string.append(i(testlabel, predict_test))\n",
    "    return metric_string    "
   ]
  },
  {
   "cell_type": "code",
   "execution_count": null,
   "metadata": {
    "collapsed": true
   },
   "outputs": [],
   "source": [
    "print(history.history.keys())\n",
    "#plt.plot(history.history['loss'])\n",
    "#plt.plot(history.history['val_loss'])\n",
    "plt.plot(history.history['mean_absolute_error'])\n",
    "plt.plot(history.history['val_mean_absolute_error'])\n"
   ]
  },
  {
   "cell_type": "code",
   "execution_count": null,
   "metadata": {
    "collapsed": true
   },
   "outputs": [],
   "source": [
    "# try to use DAE \n",
    "input_dim = np.shape(train_)[1]\n",
    "\n",
    "encoder_dae, history_dae = dae_133(train_, train_vali, epoch_no = 20, \\\n",
    "                  encoder_dim=[input_dim, 600, 100], decoder_dim=[input_dim, 600, 100])\n",
    "\n",
    "train_encoded_dae, test_encoded_dae = encoding(encoder_dae, train=train, test= test)\n",
    "\n",
    "# build a baseline model to compare the performance between a vae encoded input and a raw input (666)\n",
    "regressor_dae = baseline_model(dim=[100,200,1])\n",
    "\n",
    "history_regress = regressor_dae.fit(train_encoded_dae, trainlabel,\n",
    "        shuffle=True,\n",
    "        nb_epoch=50,\n",
    "        batch_size=100,\n",
    "        verbose = 0,\n",
    "        )\n",
    "regressor_dae.evaluate(test_encoded_dae, testlabel)"
   ]
  },
  {
   "cell_type": "code",
   "execution_count": 19,
   "metadata": {
    "collapsed": true
   },
   "outputs": [],
   "source": [
    "# build a model to project inputs on the latent space\n",
    "def encoding(encoder= None, train = train, test = test):\n",
    "    train_encoded = encoder.predict(train)\n",
    "    #print(np.shape(train)[1])\n",
    "    test_encoded = encoder.predict(test)\n",
    "    #print(np.shape(test))\n",
    "#    train_encoded_ = encoder.predict(train_)\n",
    "    #print(np.shape(train)[1])\n",
    "#    vali_encoded = encoder.predict(train_vali)\n",
    "    encoded_scale= MinMaxScaler().fit(train_encoded)\n",
    "    train_encoded_scale= encoded_scale.transform(train_encoded)\n",
    "    test_encoded_scale= encoded_scale.transform(test_encoded)\n",
    "    print 'the dimension for lattent representation is ', np.shape(train_encoded)[1]\n",
    "    return train_encoded_scale, test_encoded_scale\n"
   ]
  },
  {
   "cell_type": "code",
   "execution_count": null,
   "metadata": {
    "collapsed": true
   },
   "outputs": [],
   "source": [
    "color_label_int = [str(round(item/np.max(trainlabel))) for item in trainlabel]"
   ]
  },
  {
   "cell_type": "code",
   "execution_count": null,
   "metadata": {
    "collapsed": true
   },
   "outputs": [],
   "source": [
    "from sklearn.decomposition import PCA\n",
    "pca_fit = PCA(n_components=100).fit(train)\n",
    "\n",
    "print (pca_fit.explained_variance_ratio_ )\n",
    "print (np.sum(pca_fit.explained_variance_ratio_))\n",
    "#print (np.shape(newtrain))\n",
    "\n",
    "pca_train = pca_fit.transform(train)\n",
    "pca_test = pca_fit.transform(test)"
   ]
  },
  {
   "cell_type": "code",
   "execution_count": null,
   "metadata": {
    "collapsed": true
   },
   "outputs": [],
   "source": [
    "def dae_133(train, train_vali, epoch_no = 5, encoder_dim=[100, 100, 100], decoder_dim=[100, 100, 100]):\n",
    "    \n",
    "    ### Denosing autoencoder\n",
    "\n",
    "    noise_factor = 0.5\n",
    "    \n",
    "    train_noisy = train + noise_factor * np.random.normal(loc=0.0, scale=1.0, size=train.shape) \n",
    "\n",
    "\n",
    "    train_noisy = np.clip(train_noisy, 0., 1.)\n",
    "\n",
    "\n",
    "    # this is the size of our encoded representations\n",
    "    encoding_dim = 6  # 32 floats -> compression of factor 24.5, assuming the input is 784 floats\n",
    "\n",
    "    # this is our input placeholder\n",
    "    input_dim= Input(shape=(encoder_dim[0],))\n",
    "    # \"encoded\" is the encoded representation of the input\n",
    "    encoded = Dense(encoder_dim[1], activation='relu')(input_dim)\n",
    "    encoded = Dense(encoder_dim[-1], activation='relu', activity_regularizer=regularizers.activity_l1(10e-5))(encoded)\n",
    "\n",
    "    decoded = Dense(decoder_dim[1], activation='relu')(encoded)\n",
    "    decoded = Dense(decoder_dim[0], activation='relu')(decoded)\n",
    "\n",
    "\n",
    "    # this model maps an input to its reconstruction\n",
    "    autoencoder = Model(input=input_dim, output=decoded)\n",
    "\n",
    "    \n",
    "    autoencoder.compile(optimizer='sgd', loss='mae')\n",
    "\n",
    "    start = timeit.default_timer()\n",
    "    history = autoencoder.fit(train, train,\n",
    "                nb_epoch=epoch_no,\n",
    "                batch_size=100,\n",
    "                shuffle=True\n",
    "                )\n",
    "    encoder = Model(input=input_dim, output=encoded)\n",
    "\n",
    "    stop = timeit.default_timer()\n",
    "\n",
    "    print (\"The running takes %r min\" %((stop-start)/60))\n",
    "    \n",
    "    return encoder, history"
   ]
  },
  {
   "cell_type": "code",
   "execution_count": null,
   "metadata": {
    "collapsed": true
   },
   "outputs": [],
   "source": [
    "list_all = []\n",
    "for i in range(0, len(element_list)):\n",
    "    for j in element_list[i]:\n",
    "        if j not in set(list_all):\n",
    "            list_all.append(j)"
   ]
  },
  {
   "cell_type": "code",
   "execution_count": null,
   "metadata": {
    "collapsed": true
   },
   "outputs": [],
   "source": [
    "df_atom = pd.DataFrame({'atom_no':atom_no_list})\n",
    "df_atom.describe()\n",
    "import matplotlib.pyplot as plt\n",
    "import matplotlib\n",
    "matplotlib.style.use('ggplot')\n",
    "plt.figure()\n",
    "df_atom.plot.hist(alpha = 0.5, bins = 15)\n",
    "plt.show()"
   ]
  },
  {
   "cell_type": "code",
   "execution_count": null,
   "metadata": {
    "collapsed": true
   },
   "outputs": [],
   "source": [
    "plt.figure(figsize=(15,12))\n",
    "plt.scatter(pca_train[:,0], pca_train[:,1] ,marker = 'o', linewidth = '0', cmap = plt.cm.coolwarm,\\\n",
    "            c = color_label, s = 40)\n",
    "plt.colorbar()\n",
    "plt.show()"
   ]
  },
  {
   "cell_type": "code",
   "execution_count": null,
   "metadata": {
    "collapsed": true
   },
   "outputs": [],
   "source": [
    "'''\n",
    "generate targets, bob and store them into bob_targets15.csv\n",
    "\n",
    "# extract the element, the coordinates, the targets and the atom_no from the 133k dataset\n",
    "element_list, coord_list, target_list, atom_no_list = load_133k()\n",
    "# generate the (element, coordinate) tuple for following feature engineering\n",
    "fit_list = get_attributes(element_list, coord_list, target_list)\n",
    "\n",
    "# generate feature engineered input features, CM or BOB\n",
    "feature_methods = [CoulombMatrix(), BagOfBonds()]\n",
    "feat_co = feature_methods[1]\n",
    "train_list = feat_co.fit_transform(fit_list)\n",
    "\n",
    "df = pd.read_csv('targets_15.csv', header = 0)\n",
    "df['bob'] = train_list.tolist()\n",
    "df.to_csv('bob_targets15.csv', header = True)\n",
    "\n",
    "'''"
   ]
  }
 ],
 "metadata": {
  "kernelspec": {
   "display_name": "Python 2",
   "language": "python",
   "name": "python2"
  },
  "language_info": {
   "codemirror_mode": {
    "name": "ipython",
    "version": 2
   },
   "file_extension": ".py",
   "mimetype": "text/x-python",
   "name": "python",
   "nbconvert_exporter": "python",
   "pygments_lexer": "ipython2",
   "version": "2.7.12"
  }
 },
 "nbformat": 4,
 "nbformat_minor": 1
}
