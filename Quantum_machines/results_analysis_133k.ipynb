{
 "cells": [
  {
   "cell_type": "code",
   "execution_count": 8,
   "metadata": {
    "collapsed": true
   },
   "outputs": [],
   "source": [
    "import numpy as np\n",
    "import pandas as pd\n",
    "from sklearn.model_selection import train_test_split \n",
    "from sklearn.metrics import r2_score,mean_squared_error, mean_absolute_error, median_absolute_error"
   ]
  },
  {
   "cell_type": "code",
   "execution_count": 21,
   "metadata": {
    "collapsed": true
   },
   "outputs": [],
   "source": [
    "df_predict = pd.read_csv('Results/predict_base.csv')\n",
    "df_targets = pd.read_pickle('targets_15.pkl')"
   ]
  },
  {
   "cell_type": "code",
   "execution_count": 22,
   "metadata": {
    "collapsed": false
   },
   "outputs": [
    {
     "data": {
      "text/html": [
       "<div>\n",
       "<table border=\"1\" class=\"dataframe\">\n",
       "  <thead>\n",
       "    <tr style=\"text-align: right;\">\n",
       "      <th></th>\n",
       "      <th>Unnamed: 0</th>\n",
       "      <th>null</th>\n",
       "      <th>dipole</th>\n",
       "      <th>polar</th>\n",
       "      <th>homo</th>\n",
       "      <th>lumo</th>\n",
       "      <th>gap</th>\n",
       "    </tr>\n",
       "  </thead>\n",
       "  <tbody>\n",
       "    <tr>\n",
       "      <th>count</th>\n",
       "      <td>26777.000000</td>\n",
       "      <td>26777.000000</td>\n",
       "      <td>26777.000000</td>\n",
       "      <td>26777.000000</td>\n",
       "      <td>26777.000000</td>\n",
       "      <td>26777.000000</td>\n",
       "      <td>26777.000000</td>\n",
       "    </tr>\n",
       "    <tr>\n",
       "      <th>mean</th>\n",
       "      <td>13388.000000</td>\n",
       "      <td>13388.000000</td>\n",
       "      <td>2.572291</td>\n",
       "      <td>74.818172</td>\n",
       "      <td>-0.239596</td>\n",
       "      <td>0.012966</td>\n",
       "      <td>0.247890</td>\n",
       "    </tr>\n",
       "    <tr>\n",
       "      <th>std</th>\n",
       "      <td>7729.998415</td>\n",
       "      <td>7729.998415</td>\n",
       "      <td>1.155250</td>\n",
       "      <td>8.049213</td>\n",
       "      <td>0.019527</td>\n",
       "      <td>0.040647</td>\n",
       "      <td>0.040826</td>\n",
       "    </tr>\n",
       "    <tr>\n",
       "      <th>min</th>\n",
       "      <td>0.000000</td>\n",
       "      <td>0.000000</td>\n",
       "      <td>-1.862170</td>\n",
       "      <td>10.220730</td>\n",
       "      <td>-0.356497</td>\n",
       "      <td>-0.156013</td>\n",
       "      <td>0.103437</td>\n",
       "    </tr>\n",
       "    <tr>\n",
       "      <th>25%</th>\n",
       "      <td>6694.000000</td>\n",
       "      <td>6694.000000</td>\n",
       "      <td>1.729785</td>\n",
       "      <td>70.265915</td>\n",
       "      <td>-0.249394</td>\n",
       "      <td>-0.017846</td>\n",
       "      <td>0.217255</td>\n",
       "    </tr>\n",
       "    <tr>\n",
       "      <th>50%</th>\n",
       "      <td>13388.000000</td>\n",
       "      <td>13388.000000</td>\n",
       "      <td>2.449621</td>\n",
       "      <td>75.265610</td>\n",
       "      <td>-0.239612</td>\n",
       "      <td>0.013323</td>\n",
       "      <td>0.245868</td>\n",
       "    </tr>\n",
       "    <tr>\n",
       "      <th>75%</th>\n",
       "      <td>20082.000000</td>\n",
       "      <td>20082.000000</td>\n",
       "      <td>3.279756</td>\n",
       "      <td>79.998550</td>\n",
       "      <td>-0.230331</td>\n",
       "      <td>0.045412</td>\n",
       "      <td>0.281636</td>\n",
       "    </tr>\n",
       "    <tr>\n",
       "      <th>max</th>\n",
       "      <td>26776.000000</td>\n",
       "      <td>26776.000000</td>\n",
       "      <td>11.026284</td>\n",
       "      <td>107.030296</td>\n",
       "      <td>-0.147963</td>\n",
       "      <td>0.130443</td>\n",
       "      <td>0.465325</td>\n",
       "    </tr>\n",
       "  </tbody>\n",
       "</table>\n",
       "</div>"
      ],
      "text/plain": [
       "         Unnamed: 0          null        dipole         polar          homo  \\\n",
       "count  26777.000000  26777.000000  26777.000000  26777.000000  26777.000000   \n",
       "mean   13388.000000  13388.000000      2.572291     74.818172     -0.239596   \n",
       "std     7729.998415   7729.998415      1.155250      8.049213      0.019527   \n",
       "min        0.000000      0.000000     -1.862170     10.220730     -0.356497   \n",
       "25%     6694.000000   6694.000000      1.729785     70.265915     -0.249394   \n",
       "50%    13388.000000  13388.000000      2.449621     75.265610     -0.239612   \n",
       "75%    20082.000000  20082.000000      3.279756     79.998550     -0.230331   \n",
       "max    26776.000000  26776.000000     11.026284    107.030296     -0.147963   \n",
       "\n",
       "               lumo           gap  \n",
       "count  26777.000000  26777.000000  \n",
       "mean       0.012966      0.247890  \n",
       "std        0.040647      0.040826  \n",
       "min       -0.156013      0.103437  \n",
       "25%       -0.017846      0.217255  \n",
       "50%        0.013323      0.245868  \n",
       "75%        0.045412      0.281636  \n",
       "max        0.130443      0.465325  "
      ]
     },
     "execution_count": 22,
     "metadata": {},
     "output_type": "execute_result"
    }
   ],
   "source": [
    "df_predict.describe()"
   ]
  },
  {
   "cell_type": "code",
   "execution_count": 23,
   "metadata": {
    "collapsed": true
   },
   "outputs": [],
   "source": [
    "trainlabel, testlabels = train_test_split(df_targets,\\\n",
    "                                                      test_size=0.2, random_state = 32)"
   ]
  },
  {
   "cell_type": "code",
   "execution_count": 24,
   "metadata": {
    "collapsed": false
   },
   "outputs": [
    {
     "name": "stdout",
     "output_type": "stream",
     "text": [
      "for dipole\n",
      "0.644347529004\n",
      "0.920043861965\n",
      "for polar\n",
      "0.987028278656\n",
      "1.55383021125\n",
      "for homo\n",
      "0.00839368065083\n",
      "0.0113837196633\n",
      "for lumo\n",
      "0.0131971187304\n",
      "0.0176494126266\n",
      "for gap\n",
      "0.0154192235348\n",
      "0.0202133552178\n"
     ]
    }
   ],
   "source": [
    "interests = ['dipole', 'polar', 'homo', 'lumo', 'gap']\n",
    "for interest in interests:\n",
    "    error_test(interest)"
   ]
  },
  {
   "cell_type": "code",
   "execution_count": 19,
   "metadata": {
    "collapsed": false
   },
   "outputs": [],
   "source": [
    "def error_test(interest):\n",
    "    \n",
    "    error_gap = np.array(df_predict[interest])-np.array(testlabels[interest])\n",
    "    print \"for\", interest\n",
    "    print np.mean(abs(error_gap))\n",
    "    print np.std(error_gap)"
   ]
  },
  {
   "cell_type": "code",
   "execution_count": 17,
   "metadata": {
    "collapsed": false
   },
   "outputs": [
    {
     "data": {
      "text/plain": [
       "0.027867884675735595"
      ]
     },
     "execution_count": 17,
     "metadata": {},
     "output_type": "execute_result"
    }
   ],
   "source": [
    "\n",
    "np.std(error_gap)"
   ]
  },
  {
   "cell_type": "code",
   "execution_count": 18,
   "metadata": {
    "collapsed": false
   },
   "outputs": [
    {
     "data": {
      "text/plain": [
       "0.035240000303559255"
      ]
     },
     "execution_count": 18,
     "metadata": {},
     "output_type": "execute_result"
    }
   ],
   "source": []
  },
  {
   "cell_type": "code",
   "execution_count": null,
   "metadata": {
    "collapsed": true
   },
   "outputs": [],
   "source": []
  }
 ],
 "metadata": {
  "kernelspec": {
   "display_name": "Python 2",
   "language": "python",
   "name": "python2"
  },
  "language_info": {
   "codemirror_mode": {
    "name": "ipython",
    "version": 2
   },
   "file_extension": ".py",
   "mimetype": "text/x-python",
   "name": "python",
   "nbconvert_exporter": "python",
   "pygments_lexer": "ipython2",
   "version": "2.7.12"
  }
 },
 "nbformat": 4,
 "nbformat_minor": 0
}
