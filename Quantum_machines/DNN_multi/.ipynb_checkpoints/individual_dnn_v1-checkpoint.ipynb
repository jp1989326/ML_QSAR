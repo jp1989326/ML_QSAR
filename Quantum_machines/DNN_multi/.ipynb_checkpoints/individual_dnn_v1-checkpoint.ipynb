{
 "cells": [
  {
   "cell_type": "code",
   "execution_count": 96,
   "metadata": {
    "collapsed": false
   },
   "outputs": [],
   "source": [
    "# in this script, different targets are predicted for comparing dense, CNN and lstm\n",
    "\n",
    "import numpy as np\n",
    "import pandas as pd\n",
    "import molml \n",
    "from molml.features import CoulombMatrix, BagOfBonds\n",
    "import sys\n",
    "from sklearn.model_selection import train_test_split \n",
    "from sklearn.preprocessing import MinMaxScaler \n",
    "import matplotlib.pyplot as plt\n",
    "%matplotlib inline\n",
    "import timeit\n",
    "from sklearn.metrics import r2_score,mean_squared_error, mean_absolute_error, median_absolute_error\n",
    "# sys.path.append(\"/home/peng/git/molml/\")\n",
    "\n",
    "# from molml_local.features import CoulombMatrix\n",
    "# from molml_local.features import LocalCoulombMatrix\n",
    "# from molml_local.kernel import AtomKernel"
   ]
  },
  {
   "cell_type": "code",
   "execution_count": 95,
   "metadata": {
    "collapsed": false
   },
   "outputs": [],
   "source": [
    "from keras.layers import Input, Dense, Lambda, Dropout\n",
    "from keras.models import Model, load_model"
   ]
  },
  {
   "cell_type": "code",
   "execution_count": null,
   "metadata": {
    "collapsed": true
   },
   "outputs": [],
   "source": [
    "#flowchart for transfera learning\n",
    "'''\n",
    "1. Train a DNN for predicting target A\n",
    "2. Use the trained weights as initial weight\n",
    "3. Train it for predicting target B\n",
    "\n",
    "'''"
   ]
  },
  {
   "cell_type": "code",
   "execution_count": 6,
   "metadata": {
    "collapsed": true
   },
   "outputs": [],
   "source": [
    "def get_attributes(element_list, coord_list):\n",
    "    # produce [element, coord] lists for applying coulomb matrix and bob convertion\n",
    "\n",
    "    fit_list = []\n",
    "\n",
    "    for i in range(0, len(element_list)):\n",
    "        fit_list.append((element_list[i], coord_list[i]))\n",
    "        \n",
    "    return fit_list \n",
    "\n",
    "\n",
    "def get_train_vali_test(train_list, target_list, test_szie=0.2, random_state = 32):\n",
    "    \n",
    "    train, test, trainlabel, testlabel = train_test_split(train_list, target_list,\\\n",
    "                                                      test_size=0.2, random_state = 32)\n",
    "\n",
    "    train_, train_vali, train_label, vali_label = train_test_split(train, trainlabel, \\\n",
    "                                                              test_size=0.2, random_state = 32)\n",
    "    \n",
    "    return [train_, train_vali, test], [train_label, vali_label, testlabel]\n"
   ]
  },
  {
   "cell_type": "code",
   "execution_count": 82,
   "metadata": {
    "collapsed": true,
    "scrolled": true
   },
   "outputs": [],
   "source": [
    "def baseline_dnn():\n",
    "    \n",
    "    x = Input(shape=(666, ))\n",
    "    h1 = Dense(666, activation = 'relu')(x)\n",
    "    o1 = Dense(1, activation = 'linear', name='o1')(h1)\n",
    "    o2 = Dense(1, activation = 'linear', name='o2')(h1)\n",
    "    model = Model(inputs=[x], outputs=[o1, o2])\n",
    "    \n",
    "    model.compile(loss='mean_absolute_error', optimizer = 'adam')\n",
    "    return model\n",
    "    "
   ]
  },
  {
   "cell_type": "code",
   "execution_count": 139,
   "metadata": {
    "collapsed": true
   },
   "outputs": [],
   "source": [
    "def test_multi_dnn():\n",
    "\n",
    "    x = Input(shape=(666, ))\n",
    "    \n",
    "    h1 = Dense(666, activation = 'relu')(x)\n",
    "#    h1 = Dropout(0.1)(h1)\n",
    "    h1 = Dense(666, activation = 'relu')(h1)\n",
    "#    h1 = Dropout(0.1)(h1)\n",
    "    h1 = Dense(666, activation = 'relu')(h1)\n",
    "    \n",
    "    o1 = Dense(1, activation = 'linear', name='o1')(h1)\n",
    "    o2 = Dense(1, activation = 'linear', name='o2')(h1)\n",
    "    o3 = Dense(1, activation = 'linear', name='o3')(h1)\n",
    "    o4 = Dense(1, activation = 'linear', name='o4')(h1)\n",
    "    o5 = Dense(1, activation = 'linear', name='o5')(h1)\n",
    "    o6 = Dense(1, activation = 'linear', name='o6')(h1)\n",
    "    \n",
    "    model = Model(inputs=[x], outputs=[o1,o2,o3,o4,o5,o6])\n",
    "    \n",
    "  \n",
    "    model.compile(loss='mean_absolute_error', optimizer = 'adam')\n",
    "    return model"
   ]
  },
  {
   "cell_type": "code",
   "execution_count": 85,
   "metadata": {
    "collapsed": true
   },
   "outputs": [],
   "source": [
    "def test_single_dnn():\n",
    "\n",
    "    x = Input(shape=(666, ))\n",
    "    \n",
    "    h1 = Dense(1000, activation = 'relu')(x)\n",
    "#    h1 = Dropout(0.1)(h1)\n",
    "    h1 = Dense(1000, activation = 'relu')(h1)\n",
    "#    h1 = Dropout(0.1)(h1)\n",
    "    h1 = Dense(1000, activation = 'relu')(h1)\n",
    "    \n",
    "    o1 = Dense(1, activation = 'linear', name='o1')(h1)\n",
    "#     o2 = Dense(1, activation = 'linear', name='o2')(h1)\n",
    "#     o3 = Dense(1, activation = 'linear', name='o3')(h1)\n",
    "#     o5 = Dense(1, activation = 'linear', name='o4')(h1)\n",
    "#     o5 = Dense(1, activation = 'linear', name='o5')(h1)\n",
    "#     o6 = Dense(1, activation = 'linear', name='o6')(h1)\n",
    "    \n",
    "    model = Model(x, o1)\n",
    "    \n",
    "  \n",
    "    model.compile(loss='mean_absolute_error', optimizer = 'adam')\n",
    "    return model"
   ]
  },
  {
   "cell_type": "code",
   "execution_count": 15,
   "metadata": {
    "collapsed": false
   },
   "outputs": [],
   "source": [
    "def get_fit_targets(target_list = target_list):\n",
    "    columns_list = target_list[0].columns\n",
    "    train_targets = []\n",
    "    vali_targets = []\n",
    "    for i in columns_list:\n",
    "        train_targets.append(np.array(target_list[0][i]))\n",
    "        vali_targets.append(np.array(target_list[1][i]))\n",
    "        \n",
    "    return train_targets, vali_targets    "
   ]
  },
  {
   "cell_type": "code",
   "execution_count": 50,
   "metadata": {
    "collapsed": true
   },
   "outputs": [],
   "source": [
    "# 0. Some setting\n",
    "other_list = ['A', 'B', 'C']\n",
    "\n",
    "elec_list = ['dipole', 'polar','spatialSize', 'homo', 'lumo', 'gap']\n",
    "\n",
    "thermo_list = ['U0', 'U', 'H', 'G', 'Cv','zpe']\n",
    "\n",
    "metrics = [r2_score, mean_absolute_error, mean_squared_error, median_absolute_error]\n",
    "\n",
    "results_list = []"
   ]
  },
  {
   "cell_type": "code",
   "execution_count": 3,
   "metadata": {
    "collapsed": false
   },
   "outputs": [
    {
     "name": "stdout",
     "output_type": "stream",
     "text": [
      "Index([u'numAtoms', u'dbindex', u'A', u'B', u'C', u'dipole', u'polar', u'homo',\n",
      "       u'lumo', u'gap', u'spatialSize', u'zpe', u'U0', u'U', u'H', u'G', u'Cv',\n",
      "       u'atomList', u'atomCoords', u'freqs', u'SMILES', u'InChI'],\n",
      "      dtype='object')\n"
     ]
    }
   ],
   "source": [
    "# 1. data importing\n",
    "data_path_pkl = '/home/peng/Documents/Project_C/QSAR_nlp/Dataset_qm9/'\n",
    "\n",
    "df = pd.read_pickle(data_path_pkl + 'filter_133k.pkl')\n",
    "\n",
    "print(df.columns)"
   ]
  },
  {
   "cell_type": "code",
   "execution_count": 9,
   "metadata": {
    "collapsed": false
   },
   "outputs": [],
   "source": [
    "# 2. feature enigneering (BoB)\n",
    "fit_list = get_attributes(np.array(df['atomList']), np.array(df['atomCoords']))\n",
    "feature_methods = [CoulombMatrix(), BagOfBonds()]\n",
    "feat_co = feature_methods[1]\n",
    "train_list = feat_co.fit_transform(fit_list)\n",
    "train_list_scale = MinMaxScaler().fit_transform(train_list)"
   ]
  },
  {
   "cell_type": "code",
   "execution_count": 80,
   "metadata": {
    "collapsed": true
   },
   "outputs": [],
   "source": [
    "def train_DNN(target_single=None, model_old = None, epochs = 100):\n",
    "    \n",
    "    #Run1, the single-DNN on electro_list:\n",
    "    start = timeit.default_timer()\n",
    "\n",
    "    #R1 generate feature and target_list:\n",
    "    feature_list, target_list = get_train_vali_test(train_list_scale, df[target_single])\n",
    "\n",
    "    #R3 instance model and fit\n",
    "    if model_old:\n",
    "        model_1 = model_old\n",
    "        \n",
    "    else:\n",
    "        model_1 = test_single_dnn()\n",
    "\n",
    "    history = model_1.fit(feature_list[0], target_list[0],\\\n",
    "                                    shuffle=True,\n",
    "                nb_epoch=epochs,\n",
    "                batch_size=100,\n",
    "                verbose = 0,\n",
    "               validation_data = (feature_list[1], \\\n",
    "                                   target_list[1]))\n",
    "\n",
    "    stop = timeit.default_timer()\n",
    "\n",
    "    print (\"The running takes %r min\" %((stop-start)/60))\n",
    "    \n",
    "    return model_1, history, feature_list, target_list\n",
    "\n",
    "\n",
    "def plot_loss(history = None):\n",
    "    # plot the loss \n",
    "    print(history.history.keys())\n",
    "    #plt.plot(history.history['o2_loss'])\n",
    "    #plt.plot(history.history['val_o2_loss'])\n",
    "    plt.plot(history.history['loss'], label = 'loss')\n",
    "    plt.plot(history.history['val_loss'], label = 'val_loss')\n",
    "    plt.legend()\n",
    "    plt.show()\n",
    "    \n",
    "    \n",
    "def metric_check(model_=None, feature_list=None, target_list=None):\n",
    "    # predict results and check the predicting performance \n",
    "    pred_target_1 = np.reshape(model_.predict(feature_list[-1]),-1)\n",
    "    for metric in metrics:\n",
    "        print (str(metric), metric(pred_target_1, target_list[-1]))"
   ]
  },
  {
   "cell_type": "code",
   "execution_count": 74,
   "metadata": {
    "collapsed": false
   },
   "outputs": [
    {
     "name": "stdout",
     "output_type": "stream",
     "text": [
      "The running takes 2.932003668944041 min\n"
     ]
    }
   ],
   "source": [
    "# RR1, check target_3\n",
    "model_3, history_3, feature_list_3, target_list_3 = train_DNN(elec_list[-3])"
   ]
  },
  {
   "cell_type": "code",
   "execution_count": 75,
   "metadata": {
    "collapsed": false
   },
   "outputs": [
    {
     "name": "stdout",
     "output_type": "stream",
     "text": [
      "['loss', 'val_loss']\n"
     ]
    },
    {
     "data": {
      "image/png": "[encoded data removed]",
      "text/plain": [
       "<matplotlib.figure.Figure at 0x7f2a70bbcbd0>"
      ]
     },
     "metadata": {},
     "output_type": "display_data"
    },
    {
     "name": "stdout",
     "output_type": "stream",
     "text": [
      "('<function r2_score at 0x7f2af30c9320>', 0.73201453712691789)\n",
      "('<function mean_absolute_error at 0x7f2af30c9140>', 0.0073862462287192067)\n",
      "('<function mean_squared_error at 0x7f2af30c91b8>', 9.8261964060672587e-05)\n",
      "('<function median_absolute_error at 0x7f2af30c9230>', 0.0058017908573150534)\n"
     ]
    }
   ],
   "source": [
    "plot_loss(history = history_3)\n",
    "metric_check(model_3, feature_list_3, target_list_3 )"
   ]
  },
  {
   "cell_type": "code",
   "execution_count": 86,
   "metadata": {
    "collapsed": false
   },
   "outputs": [
    {
     "name": "stdout",
     "output_type": "stream",
     "text": [
      "The running takes 4.753946503003438 min\n"
     ]
    }
   ],
   "source": [
    "model_2, history_2, feature_list_2, target_list_2 = train_DNN(elec_list[-2])\n",
    "plot_loss(history = history_2)\n",
    "metric_check(model_2, feature_list_2, target_list_2 )"
   ]
  },
  {
   "cell_type": "code",
   "execution_count": 97,
   "metadata": {
    "collapsed": false
   },
   "outputs": [
    {
     "name": "stdout",
     "output_type": "stream",
     "text": [
      "['loss', 'val_loss']\n"
     ]
    },
    {
     "data": {
      "image/png": "[encoded data removed]",
      "text/plain": [
       "<matplotlib.figure.Figure at 0x7f2a446ba050>"
      ]
     },
     "metadata": {},
     "output_type": "display_data"
    },
    {
     "name": "stdout",
     "output_type": "stream",
     "text": [
      "('<function r2_score at 0x7f2af30c9320>', -164.06373348211071)\n",
      "('<function mean_absolute_error at 0x7f2af30c9140>', 0.25295466923085452)\n",
      "('<function mean_squared_error at 0x7f2af30c91b8>', 0.066136153773985948)\n",
      "('<function median_absolute_error at 0x7f2af30c9230>', 0.25142665035724643)\n"
     ]
    }
   ],
   "source": [
    "plot_loss(history = history_2)\n",
    "metric_check(model_2, feature_list_2, target_list_2 )"
   ]
  },
  {
   "cell_type": "code",
   "execution_count": 91,
   "metadata": {
    "collapsed": false
   },
   "outputs": [
    {
     "name": "stdout",
     "output_type": "stream",
     "text": [
      "The running takes 4.747073582808176 min\n",
      "['loss', 'val_loss']\n"
     ]
    },
    {
     "data": {
      "image/png": "[encoded data removed]",
      "text/plain": [
       "<matplotlib.figure.Figure at 0x7f2a4573a290>"
      ]
     },
     "metadata": {},
     "output_type": "display_data"
    },
    {
     "name": "stdout",
     "output_type": "stream",
     "text": [
      "('<function r2_score at 0x7f2af30c9320>', 0.79553638396416948)\n",
      "('<function mean_absolute_error at 0x7f2af30c9140>', 0.0066921332370056333)\n",
      "('<function mean_squared_error at 0x7f2af30c91b8>', 8.1922520871590752e-05)\n",
      "('<function median_absolute_error at 0x7f2af30c9230>', 0.0051248957157135067)\n"
     ]
    }
   ],
   "source": [
    "model_3f2, history_3f2, feature_list_3f2, target_list_3f2 = train_DNN(elec_list[-3], model_2)\n",
    "plot_loss(history = history_3f2)\n",
    "metric_check(model_3f2, feature_list_3f2, target_list_3f2 )"
   ]
  },
  {
   "cell_type": "code",
   "execution_count": 92,
   "metadata": {
    "collapsed": false
   },
   "outputs": [
    {
     "name": "stdout",
     "output_type": "stream",
     "text": [
      "The running takes 9.493880200386048 min\n",
      "['loss', 'val_loss']\n"
     ]
    },
    {
     "data": {
      "image/png": "[encoded data removed]",
      "text/plain": [
       "<matplotlib.figure.Figure at 0x7f2a4627df90>"
      ]
     },
     "metadata": {},
     "output_type": "display_data"
    },
    {
     "name": "stdout",
     "output_type": "stream",
     "text": [
      "('<function r2_score at 0x7f2af30c9320>', 0.80430359584767475)\n",
      "('<function mean_absolute_error at 0x7f2af30c9140>', 0.0070431946256133676)\n",
      "('<function mean_squared_error at 0x7f2af30c91b8>', 8.9245195558323052e-05)\n",
      "('<function median_absolute_error at 0x7f2af30c9230>', 0.0055091881752014071)\n"
     ]
    }
   ],
   "source": [
    "model_3300, history_3300, feature_list_3300, target_list_3300 = train_DNN(target_single=elec_list[-3], epochs=200,\\\n",
    "                                                                  model_old = None)\n",
    "plot_loss(history = history_3300)\n",
    "metric_check(model_3300, feature_list_3300, target_list_3300 )"
   ]
  },
  {
   "cell_type": "code",
   "execution_count": 143,
   "metadata": {
    "collapsed": false
   },
   "outputs": [
    {
     "name": "stdout",
     "output_type": "stream",
     "text": [
      "The running takes 4.644140148162842 min\n"
     ]
    }
   ],
   "source": [
    "'''\n",
    "#Run1, the multi-DNN on electro_list:\n",
    "start = timeit.default_timer()\n",
    "\n",
    "#R1 generate feature and target_list:\n",
    "feature_list, target_list = get_train_vali_test(train_list_scale, df[elec_list])\n",
    "\n",
    "#R2 generate train, vali, and test target lists for convienient usage for fitting\n",
    "train_targets, vali_targets = get_fit_targets(target_list=target_list)\n",
    "\n",
    "#R3 instance model and fit\n",
    "\n",
    "model_1 = test_multi_dnn()\n",
    "\n",
    "history = model_1.fit(feature_list[0], train_targets,\\\n",
    "                                shuffle=True,\n",
    "            epochs=100,\n",
    "            batch_size=100,\n",
    "            verbose = 0,\n",
    "           validation_data = (feature_list[1], \\\n",
    "                              vali_targets))\n",
    "\n",
    "stop = timeit.default_timer()\n",
    "\n",
    "print (\"The running takes %r min\" %((stop-start)/60))\n",
    "\n",
    "'''"
   ]
  },
  {
   "cell_type": "code",
   "execution_count": 146,
   "metadata": {
    "collapsed": true
   },
   "outputs": [],
   "source": [
    "# R4 save the model\n",
    "model_1.save('Results/model_multi_dnn_elec.h5')"
   ]
  },
  {
   "cell_type": "code",
   "execution_count": 147,
   "metadata": {
    "collapsed": true
   },
   "outputs": [],
   "source": [
    "#R5 predict the test set\n",
    "test_results = model_1.predict(feature_list[-1])\n",
    "test_results_dic = {}\n",
    "for i in xrange(0, np.shape(test_results)[0]):\n",
    "    test_name = '0'+str(int(i+1))\n",
    "    test_results_dic[test_name] = np.reshape(test_results[i], -1)"
   ]
  },
  {
   "cell_type": "code",
   "execution_count": 160,
   "metadata": {
    "collapsed": true
   },
   "outputs": [],
   "source": [
    "#R6 store history and predicted_test_results\n",
    "df_test_results=pd.DataFrame(test_results_dic)\n",
    "df_test_results.to_csv('Results/predict_test_multiDNN_elec.csv', header =True )\n",
    "df_history = pd.DataFrame(history.history)\n",
    "df_history.to_csv('Results/history_multiDNN_elec.csv', header=True)"
   ]
  },
  {
   "cell_type": "code",
   "execution_count": 121,
   "metadata": {
    "collapsed": true
   },
   "outputs": [],
   "source": [
    "# 2.5 generate feature list and target list \n",
    "feature_list, target_list = get_train_vali_test(train_list_scale, df[['gap', 'homo']])"
   ]
  },
  {
   "cell_type": "code",
   "execution_count": 99,
   "metadata": {
    "collapsed": true
   },
   "outputs": [],
   "source": [
    "model_1 = test_dnn()\n",
    "\n",
    "history = model_1.fit(feature_list[0], [np.array(target_list[0]['gap']), np.array(target_list[0]['homo'])],\\\n",
    "                                shuffle=True,\n",
    "            epochs=20,\n",
    "            batch_size=100,\n",
    "            verbose = 0,\n",
    "           validation_data = (feature_list[1], \\\n",
    "                              [np.array(target_list[1]['gap']), np.array(target_list[1]['homo'])]))"
   ]
  },
  {
   "cell_type": "code",
   "execution_count": 197,
   "metadata": {
    "collapsed": false
   },
   "outputs": [
    {
     "data": {
      "text/html": [
       "<div>\n",
       "<style>\n",
       "    .dataframe thead tr:only-child th {\n",
       "        text-align: right;\n",
       "    }\n",
       "\n",
       "    .dataframe thead th {\n",
       "        text-align: left;\n",
       "    }\n",
       "\n",
       "    .dataframe tbody tr th {\n",
       "        vertical-align: top;\n",
       "    }\n",
       "</style>\n",
       "<table border=\"1\" class=\"dataframe\">\n",
       "  <thead>\n",
       "    <tr style=\"text-align: right;\">\n",
       "      <th></th>\n",
       "      <th>dipole</th>\n",
       "      <th>polar</th>\n",
       "      <th>spatialSize</th>\n",
       "      <th>homo</th>\n",
       "      <th>lumo</th>\n",
       "      <th>gap</th>\n",
       "    </tr>\n",
       "  </thead>\n",
       "  <tbody>\n",
       "    <tr>\n",
       "      <th>count</th>\n",
       "      <td>130831.000000</td>\n",
       "      <td>130831.000000</td>\n",
       "      <td>130831.000000</td>\n",
       "      <td>130831.000000</td>\n",
       "      <td>130831.000000</td>\n",
       "      <td>130831.000000</td>\n",
       "    </tr>\n",
       "    <tr>\n",
       "      <th>mean</th>\n",
       "      <td>2.672953</td>\n",
       "      <td>75.281185</td>\n",
       "      <td>1189.410643</td>\n",
       "      <td>-0.240210</td>\n",
       "      <td>0.011835</td>\n",
       "      <td>0.252045</td>\n",
       "    </tr>\n",
       "    <tr>\n",
       "      <th>std</th>\n",
       "      <td>1.503479</td>\n",
       "      <td>8.173831</td>\n",
       "      <td>280.478157</td>\n",
       "      <td>0.021967</td>\n",
       "      <td>0.046850</td>\n",
       "      <td>0.047192</td>\n",
       "    </tr>\n",
       "    <tr>\n",
       "      <th>min</th>\n",
       "      <td>0.000000</td>\n",
       "      <td>6.310000</td>\n",
       "      <td>19.000200</td>\n",
       "      <td>-0.428600</td>\n",
       "      <td>-0.175000</td>\n",
       "      <td>0.024600</td>\n",
       "    </tr>\n",
       "    <tr>\n",
       "      <th>25%</th>\n",
       "      <td>1.577800</td>\n",
       "      <td>70.480000</td>\n",
       "      <td>1017.431250</td>\n",
       "      <td>-0.252600</td>\n",
       "      <td>-0.023300</td>\n",
       "      <td>0.217000</td>\n",
       "    </tr>\n",
       "    <tr>\n",
       "      <th>50%</th>\n",
       "      <td>2.475300</td>\n",
       "      <td>75.600000</td>\n",
       "      <td>1147.221100</td>\n",
       "      <td>-0.241100</td>\n",
       "      <td>0.012600</td>\n",
       "      <td>0.250200</td>\n",
       "    </tr>\n",
       "    <tr>\n",
       "      <th>75%</th>\n",
       "      <td>3.596350</td>\n",
       "      <td>80.610000</td>\n",
       "      <td>1309.047000</td>\n",
       "      <td>-0.228900</td>\n",
       "      <td>0.050900</td>\n",
       "      <td>0.289400</td>\n",
       "    </tr>\n",
       "    <tr>\n",
       "      <th>max</th>\n",
       "      <td>29.556400</td>\n",
       "      <td>196.620000</td>\n",
       "      <td>3374.753200</td>\n",
       "      <td>-0.101700</td>\n",
       "      <td>0.193500</td>\n",
       "      <td>0.622100</td>\n",
       "    </tr>\n",
       "  </tbody>\n",
       "</table>\n",
       "</div>"
      ],
      "text/plain": [
       "              dipole          polar    spatialSize           homo  \\\n",
       "count  130831.000000  130831.000000  130831.000000  130831.000000   \n",
       "mean        2.672953      75.281185    1189.410643      -0.240210   \n",
       "std         1.503479       8.173831     280.478157       0.021967   \n",
       "min         0.000000       6.310000      19.000200      -0.428600   \n",
       "25%         1.577800      70.480000    1017.431250      -0.252600   \n",
       "50%         2.475300      75.600000    1147.221100      -0.241100   \n",
       "75%         3.596350      80.610000    1309.047000      -0.228900   \n",
       "max        29.556400     196.620000    3374.753200      -0.101700   \n",
       "\n",
       "                lumo            gap  \n",
       "count  130831.000000  130831.000000  \n",
       "mean        0.011835       0.252045  \n",
       "std         0.046850       0.047192  \n",
       "min        -0.175000       0.024600  \n",
       "25%        -0.023300       0.217000  \n",
       "50%         0.012600       0.250200  \n",
       "75%         0.050900       0.289400  \n",
       "max         0.193500       0.622100  "
      ]
     },
     "execution_count": 197,
     "metadata": {},
     "output_type": "execute_result"
    }
   ],
   "source": [
    "df[elec_list].describe()"
   ]
  }
 ],
 "metadata": {
  "kernelspec": {
   "display_name": "Python 2",
   "language": "python",
   "name": "python2"
  },
  "language_info": {
   "codemirror_mode": {
    "name": "ipython",
    "version": 2
   },
   "file_extension": ".py",
   "mimetype": "text/x-python",
   "name": "python",
   "nbconvert_exporter": "python",
   "pygments_lexer": "ipython2",
   "version": "2.7.12"
  }
 },
 "nbformat": 4,
 "nbformat_minor": 1
}
