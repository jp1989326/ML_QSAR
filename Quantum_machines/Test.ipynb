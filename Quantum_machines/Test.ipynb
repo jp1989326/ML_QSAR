{
 "cells": [
  {
   "cell_type": "code",
   "execution_count": 1,
   "metadata": {
    "collapsed": true
   },
   "outputs": [],
   "source": [
    "from Customize_feature import Cust_cm"
   ]
  },
  {
   "cell_type": "code",
   "execution_count": 2,
   "metadata": {
    "collapsed": true
   },
   "outputs": [],
   "source": [
    "# Define some base data\n",
    "H2_ELES = ['H', 'H']\n",
    "H2_NUMS = [1, 1]\n",
    "H2_COORDS = [\n",
    "    [0.0, 0.0, 0.0],\n",
    "    [1.0, 0.0, 0.0],\n",
    "]\n",
    "H2_CONNS = {\n",
    "    0: {1: '1'},\n",
    "    1: {0: '1'},\n",
    "}\n",
    "\n",
    "HCN_ELES = ['H', 'C', 'N']\n",
    "HCN_NUMS = [1, 6, 7]\n",
    "HCN_COORDS = [\n",
    "    [-1.0, 0.0, 0.0],\n",
    "    [0.0, 0.0, 0.0],\n",
    "    [1.0, 0.0, 0.0],\n",
    "]\n",
    "HCN_CONNS = {\n",
    "    0: {1: '1'},\n",
    "    1: {0: '1', 2: '3'},\n",
    "    2: {1: '3'},\n",
    "}"
   ]
  },
  {
   "cell_type": "code",
   "execution_count": 4,
   "metadata": {
    "collapsed": false
   },
   "outputs": [
    {
     "name": "stdout",
     "output_type": "stream",
     "text": [
      "Transformed H2\n",
      "[[[ 0.5  1.   0. ]\n",
      "  [ 1.   0.5  0. ]\n",
      "  [ 0.   0.   0. ]]]\n",
      "H2 and HCN transformed\n",
      "[[[  0.5         1.          0.       ]\n",
      "  [  1.          0.5         0.       ]\n",
      "  [  0.          0.          0.       ]]\n",
      "\n",
      " [[  0.5         6.          3.5      ]\n",
      "  [  6.         36.8581052  42.       ]\n",
      "  [  3.5        42.         53.3587074]]]\n",
      "()\n"
     ]
    }
   ],
   "source": [
    "feat = Cust_cm()\n",
    "H2 = (H2_ELES, H2_COORDS)\n",
    "HCN = (HCN_ELES, HCN_COORDS)\n",
    "feat.fit([H2, HCN])\n",
    "print(\"Transformed H2\")\n",
    "print(feat.transform([H2]))\n",
    "print(\"H2 and HCN transformed\")\n",
    "print(feat.transform([H2, HCN]))\n",
    "print()"
   ]
  },
  {
   "cell_type": "code",
   "execution_count": null,
   "metadata": {
    "collapsed": true
   },
   "outputs": [],
   "source": []
  }
 ],
 "metadata": {
  "kernelspec": {
   "display_name": "Python 2",
   "language": "python",
   "name": "python2"
  },
  "language_info": {
   "codemirror_mode": {
    "name": "ipython",
    "version": 2
   },
   "file_extension": ".py",
   "mimetype": "text/x-python",
   "name": "python",
   "nbconvert_exporter": "python",
   "pygments_lexer": "ipython2",
   "version": "2.7.12"
  }
 },
 "nbformat": 4,
 "nbformat_minor": 0
}
